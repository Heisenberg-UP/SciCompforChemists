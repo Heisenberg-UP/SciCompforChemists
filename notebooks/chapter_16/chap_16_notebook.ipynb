{
 "cells": [
  {
   "cell_type": "markdown",
   "id": "f43e3540-6998-4456-9407-8c9a6e051f80",
   "metadata": {},
   "source": [
    "(16)=\n",
    "# Chapter 16: Bioinformations with Biopython\n",
    "\n",
    "Bioinformatics is the field of working with biological or biochemical data using computing resources, and while the data is fundamentally no different than the data seen so far, this field is large and significant enough to warrant its own chapter. More importantly, bioinformatics contains a multitude of different file formats making this a significant hurdle in working with these data. The good news is that these file formats are usually text files like seen in the previous chapters, and there are Python libraries available to facilitate the parsing and working with these file formats and data. This chapter will start by looking at a few common file formats, parsing them with our own code followed by introducing the biopython library to perform the heavy lifting.\n",
    "\n",
    "This chapter will be utilizing the biopython library which  which is among the well-known libraries for working with biological and biochemical data. It will need to be installed in Anaconda and Google Colab as it is not a standard library. As of this writing, it can be installed [using pip](https://biopython.org/wiki/Download) by `pip install biopython`. Once installed, it is imported as `Bio`. This chapter assums the following imports."
   ]
  },
  {
   "cell_type": "code",
   "execution_count": 47,
   "id": "43e9a418-2648-4d55-98a1-2b1a95be29b0",
   "metadata": {},
   "outputs": [],
   "source": [
    "import Bio\n",
    "from Bio import PDB, SeqIO, SeqUtils, Align\n",
    "\n",
    "import warnings\n",
    "from Bio import BiopythonWarning\n",
    "warnings.simplefilter('ignore', BiopythonWarning)\n",
    "\n",
    "import matplotlib.pyplot as plt"
   ]
  },
  {
   "cell_type": "markdown",
   "id": "9cadfa19-4cea-4da0-b16e-66f8efed9fa2",
   "metadata": {},
   "source": [
    "(16.1)=\n",
    "## 16.1 [FINISH] Working with Sequences\n",
    "\n",
    "Among the most fundimental data in bioinformatics is sequence data which simply provides the order of monomers in a sequence of nucleotides or amino acids. For protein sequences, these monomers are mainly the 20 common amino acids, but other less frequent amino acids and other species may be present, and for nucleic acid sequences, these are nucleotide bases. \n",
    "- import fasta files\n",
    "- GC content\n",
    "- transcription/translation\n",
    "- sequence alignment"
   ]
  },
  {
   "cell_type": "markdown",
   "id": "6567fc5d-ccc1-400b-9158-194a23e545bf",
   "metadata": {},
   "source": [
    "(16.2.1)=\n",
    "### 16.2.1 Reading FASTA Files with Biopython\n",
    "\n",
    "There are numberous file formats that can store sequence data, but for the examples in this section, we will focus on the FASTA file format which only holds the sequence data and some metadata (i.e., data about the data). FASTA files are fundimentally just text files that look like the following when opened in a text editor. The first line begins with a > and includes helpful information about the sequence such as the organism and what specific molecule it belongs to or codes for. The rest of the file is sequence information. There is no strict rule on how many letters can be contained in each line, but 70 is a common length.\n",
    "\n",
    ">\\>7AIZ_1|Chains A, D|Nitrogenase vanadium-iron protein alpha chain|Azotobacter vinelandii (354)\n",
    "MPMVLLECDKDIPERQKHIYLKAPNEDTREFLPIANAATIPGTLSERGCAFCGAKLVIGGVLKDTIQMIH\n",
    "MPMVLLECDKDIPERQKHIYLKAPNEDTREFLPIANAATIPGTLSERGCAFCGAKLVIGGVLKDTIQMIH\n",
    "GPLGCAYDTWHTKRYPTDNGHFNMKYVWSTDMKESHVVFGGEKRLEKSMHEAFDEMPDIKRMIVYTTCPT\n",
    "ALIGDDIKAVAKKVMKDRPDVDVFTVECPGFSGVSQSKGHHVLNIGWINEKVETMEKEITSEYTMNFIGD\n",
    "FNIQGDTQLLQTYWDRLGIQVVAHFTGNGTYDDLRCMHQAQLNVVNCARSSGYIANELKKRYGIPRLDID\n",
    "SWGFNYMAEGIRKICAFFGIEEKGEELIAEEYAKWKPKLDWYKERLQGKKMAIWTGGPRLWHWTKSVEDD\n",
    "LGVQVVAMSSKFGHEEDFEKVIARGKEGTYYIDDGNELEFFEIIDLVKPDVIFTGPRVGELVKKLHIPYV\n",
    "NGHGYHNGPYMGFEGFVNLARDMYNAVHNPLRHLAAVDIRDKSQTTPVIVRGAA\n",
    "\n",
    "\n",
    "\n",
    "\n"
   ]
  },
  {
   "cell_type": "code",
   "execution_count": 48,
   "id": "205a7b8f-2c9a-4bf7-ba70-355975039255",
   "metadata": {},
   "outputs": [
    {
     "data": {
      "text/plain": [
       "69"
      ]
     },
     "execution_count": 48,
     "metadata": {},
     "output_type": "execute_result"
    }
   ],
   "source": [
    "len('MPMVLLECDKDIPERQKHIYLKAPNEDTREFLPIANAATIPGTLSERGCAFCGAKLVIGGVLKDTIQMI')"
   ]
  },
  {
   "cell_type": "code",
   "execution_count": 49,
   "id": "aafebb1f-7605-420c-9c9f-126984659d37",
   "metadata": {},
   "outputs": [],
   "source": [
    "rat = SeqIO.parse('data/rcsb_pdb_430D.fasta', 'fasta')"
   ]
  },
  {
   "cell_type": "code",
   "execution_count": 50,
   "id": "d82637e7-6b6e-461e-98e8-dcdff446de69",
   "metadata": {},
   "outputs": [
    {
     "name": "stdout",
     "output_type": "stream",
     "text": [
      "430D_1|Chain\n",
      "GGGUGCUCAGUACGAGAGGAACCGCACCC\n",
      "430D_1|Chain A|SARCIN/RICIN LOOP FROM RAT 28S R-RNA|Rattus norvegicus (10116)\n"
     ]
    }
   ],
   "source": [
    "for record in rat:\n",
    "    print(record.id)\n",
    "    print(record.seq)\n",
    "    print(record.description)"
   ]
  },
  {
   "cell_type": "markdown",
   "id": "098ff71f-f84f-4986-9f3c-a756f672b5c9",
   "metadata": {},
   "source": [
    "This is a one-time use object. Running the same code below gives no output."
   ]
  },
  {
   "cell_type": "code",
   "execution_count": 51,
   "id": "faa8d8fc-0bd8-4868-9dd5-171b090ebc38",
   "metadata": {},
   "outputs": [],
   "source": [
    "for record in rat:\n",
    "    print(record.id)\n",
    "    print(record.seq)\n",
    "    print(record.description)"
   ]
  },
  {
   "cell_type": "markdown",
   "id": "e819bdd0-460d-4b2b-8dd0-c171c44451a5",
   "metadata": {},
   "source": []
  },
  {
   "cell_type": "code",
   "execution_count": 52,
   "id": "a27fb587-3b8e-4630-a290-0db7f863d21c",
   "metadata": {},
   "outputs": [],
   "source": [
    "sequences = SeqIO.parse('data/rcsb_pdb_7AIZ.fasta', 'fasta')"
   ]
  },
  {
   "cell_type": "code",
   "execution_count": 53,
   "id": "5e3743a7-569d-45e2-915d-8309b680b3c9",
   "metadata": {},
   "outputs": [
    {
     "name": "stdout",
     "output_type": "stream",
     "text": [
      "7AIZ_1|Chains\n",
      "7AIZ_2|Chains\n",
      "7AIZ_3|Chains\n"
     ]
    }
   ],
   "source": [
    "for sequence in sequences:\n",
    "    print(sequence.id)"
   ]
  },
  {
   "cell_type": "code",
   "execution_count": null,
   "id": "3b92f600-a996-4ccd-b9e5-3747b8053814",
   "metadata": {},
   "outputs": [],
   "source": []
  },
  {
   "cell_type": "markdown",
   "id": "50bc61ae-504d-458e-99d8-f954f6d0da1a",
   "metadata": {},
   "source": [
    "(16.2.2)=\n",
    "### 16.2.2 GC Content of Nucleotide Sequence\n",
    "\n",
    "```{index} GC content\n",
    "```\n",
    "\n",
    "One piece of information we can extract from a nucleotide sequence is the GC content. In DNA, for example, there are two complementary strands hydrogen bonded together which contain the base pairs adenosine(A)/thymine(T) and guanidine(G)/cytosine(C), so the number of adenosines equals the number of thymines and the number of guanidines equals the number of cytosines. However, the number of A/T pairs does not neccesarily equal the number of G/C pairs. The ratio of G/C to A/T can have an effect on the stability of a DNA structure among other things. The *GC content* of DNA is the fraction of total bases that are G/C which can be calculated using the number ($n$) of G and C bases divided by the total number of all bases in the sequence.\n",
    "\n",
    "$$ GC \\,\\, content = \\frac{GC\\,\\, bases}{sequence \\,\\,length} = \\frac{n_G + n_C}{n_G + n_C + n_A + n_T}  $$\n",
    "\n",
    "Below, we will calculate the GC content of a DNA sequence in a FASTA using Biopython's `gc_fraction(seq)` function which accepts a Biopython sequence and returns the GC content in fraction form. "
   ]
  },
  {
   "cell_type": "code",
   "execution_count": 54,
   "id": "7135c812-a16f-4763-9ebc-12c9cedfe7c2",
   "metadata": {},
   "outputs": [
    {
     "data": {
      "text/plain": [
       "0.5296912114014252"
      ]
     },
     "execution_count": 54,
     "metadata": {},
     "output_type": "execute_result"
    }
   ],
   "source": [
    "rat = SeqIO.parse('data/DNA_sequence_drago.fasta', 'fasta')\n",
    "rat_seq = [x.seq for x in rat]\n",
    "\n",
    "SeqUtils.gc_fraction(*rat_seq)"
   ]
  },
  {
   "cell_type": "markdown",
   "id": "cf20e878-d101-46d6-bfa8-33f3fd3191cf",
   "metadata": {},
   "source": [
    "Sometimes there are characters in a DNA seuqence other than A, T, C, and G due to ambiguities among other reasons. An `N` means that the base is unidentifiable while `S` means it is either C or G and `W` means it is either A or T. The `gc_fraction()` function provides an `ambiguous=` parameter that can be used to decide how to deal with ambiguous characters. Below are the three string options for the `ambiguous=` parameter where `remove` is the default setting.\n",
    "\n",
    "| Option | Description |\n",
    "|-------|--------------|\n",
    "|`'remove'`| Default setting; only uses 'ATCGSW' characters and ignores the rest |\n",
    "|`'ignore'` | Uses 'GCS' characters for GC count and rest of characters for sequence length|\n",
    "|`'weighted'`| Applies weights to various characters effectively forming a weighted average|\n",
    "\n",
    "Our sequence contains some `N` characters, so if we set it to `ignore`, the GC content value is expected to decrease due to a larger demoninator in the equation above versus the default `remove` option."
   ]
  },
  {
   "cell_type": "code",
   "execution_count": 55,
   "id": "32fb4db4-edde-4e90-8cc1-626acf86cd24",
   "metadata": {},
   "outputs": [
    {
     "data": {
      "text/plain": [
       "0.5247058823529411"
      ]
     },
     "execution_count": 55,
     "metadata": {},
     "output_type": "execute_result"
    }
   ],
   "source": [
    "SeqUtils.gc_fraction(*rat_seq, ambiguous='ignore')"
   ]
  },
  {
   "cell_type": "markdown",
   "id": "8e90a9a4-6f46-4a4d-a586-06131292bc18",
   "metadata": {},
   "source": [
    "(16.2.3)=\n",
    "### 16.2.3 Hamming Distance\n",
    "\n",
    "```{index} Hamming distance\n",
    "```\n",
    "\n",
    "Not all sequences of proteins or nucleic acids are completely unique because different organisms often contain analogous structues (e.g., all mammals have hemoglobin proteins) or offspring share much of their genetic code with a parent. The *Hamming distance* is one metric for detemining how different two sequences are and is simply the number of locations where two sequences of the same length are different. For example, `AATGC` and `AATGT` have a Hamming distance of 1 because they are identical except for the last base position."
   ]
  },
  {
   "cell_type": "code",
   "execution_count": 56,
   "id": "cf62997f-6e26-408a-a0e6-da265be4a5fd",
   "metadata": {},
   "outputs": [],
   "source": [
    "dna1 = 'ATCCTGCATTAGGGAGCTTTTATTGCCCAATAGCTA'\n",
    "dna2 = 'ATCCTGGATTAGGGAGCATTTATTGCCCAATAGGTA'"
   ]
  },
  {
   "cell_type": "code",
   "execution_count": 57,
   "id": "9f0b7594-5eb9-4110-8f0a-354d06ec5e1b",
   "metadata": {},
   "outputs": [],
   "source": [
    "def my_hamming(seq1, seq2):\n",
    "\n",
    "    if len(seq1) != len(seq2):\n",
    "        raise ValueError('Sequences must be of equal length')\n",
    "        \n",
    "    sequences = zip(seq1, seq2)\n",
    "    distance = 0\n",
    "    for position in sequences:\n",
    "        if position[0] != position[1]:\n",
    "            distance += 1\n",
    "    \n",
    "    return distance"
   ]
  },
  {
   "cell_type": "code",
   "execution_count": 58,
   "id": "a701a41f-8940-4147-a127-87af4d43db98",
   "metadata": {},
   "outputs": [
    {
     "data": {
      "text/plain": [
       "3"
      ]
     },
     "execution_count": 58,
     "metadata": {},
     "output_type": "execute_result"
    }
   ],
   "source": [
    "my_hamming(dna1, dna2)"
   ]
  },
  {
   "cell_type": "markdown",
   "id": "cbda7dfc-d081-44aa-b90b-7f6159f4c1c7",
   "metadata": {},
   "source": [
    "The SciPy library also contains a Hamming distance function called `hamming()` which accepts two sequences an an array-like objects (e.g., list or NumPy arrays) and returns a fraction of values that are different between the two lists. If we start with a string, we can convert them to a list like below. To obtain the number of different values or entried between the two sequences, simply multiple the fractional difference by the lengh of one sequece."
   ]
  },
  {
   "cell_type": "code",
   "execution_count": 59,
   "id": "4e77206b-51b2-411e-9d65-054845bc2809",
   "metadata": {},
   "outputs": [],
   "source": [
    "from scipy.spatial import distance\n",
    "dist = distance.hamming(list(dna1), list(dna2))"
   ]
  },
  {
   "cell_type": "code",
   "execution_count": 60,
   "id": "1b2eb3ce-4363-4166-af61-818a6831cae2",
   "metadata": {},
   "outputs": [
    {
     "data": {
      "text/plain": [
       "3.0"
      ]
     },
     "execution_count": 60,
     "metadata": {},
     "output_type": "execute_result"
    }
   ],
   "source": [
    "dist * len(dna1)"
   ]
  },
  {
   "cell_type": "markdown",
   "id": "d82f39a6-ac16-46c1-8f81-dd12aaa7e977",
   "metadata": {},
   "source": [
    "(16.2.4)=\n",
    "### [FINISH] 16.2.4 Sequence Alignment"
   ]
  },
  {
   "cell_type": "code",
   "execution_count": 61,
   "id": "1abdbce6-14fe-47ed-9b71-b1e48b693500",
   "metadata": {},
   "outputs": [],
   "source": [
    "aligner = Align.PairwiseAligner(mode='global',\n",
    "                                match_score=1,\n",
    "                                mismatch_score=-1,)\n",
    "\n",
    "seq1 = 'GTAAATGACGTA'\n",
    "seq2 = 'GTTAATGACCTAA'"
   ]
  },
  {
   "cell_type": "code",
   "execution_count": 62,
   "id": "f7cd0f2c-862a-4f6a-966d-55501481ac3a",
   "metadata": {},
   "outputs": [
    {
     "data": {
      "text/plain": [
       "10.0"
      ]
     },
     "execution_count": 62,
     "metadata": {},
     "output_type": "execute_result"
    }
   ],
   "source": [
    "score = aligner.score(seq1, seq2)\n",
    "score"
   ]
  },
  {
   "cell_type": "code",
   "execution_count": 63,
   "id": "bc66f399-5a80-49e1-95ad-cbeeb320a3ff",
   "metadata": {},
   "outputs": [
    {
     "name": "stdout",
     "output_type": "stream",
     "text": [
      "target            0 G-TAAATGACG-TA- 12\n",
      "                  0 |-|||-||||--||- 15\n",
      "query             0 GTTAA-TGAC-CTAA 13\n",
      "\n"
     ]
    }
   ],
   "source": [
    "alignments = aligner.align(seq1, seq2)\n",
    "print(alignments[1])"
   ]
  },
  {
   "cell_type": "code",
   "execution_count": 64,
   "id": "c29a8ac1-3764-4950-8464-8e227b136716",
   "metadata": {},
   "outputs": [
    {
     "name": "stdout",
     "output_type": "stream",
     "text": [
      "target            0 GT-AAATGACG-TA- 12\n",
      "                  0 ||-|-|||||--||- 15\n",
      "query             0 GTTA-ATGAC-CTAA 13\n",
      "\n"
     ]
    }
   ],
   "source": [
    "print(alignments[2])"
   ]
  },
  {
   "cell_type": "markdown",
   "id": "48b262cc-e523-4b8b-9cc3-5633714eabf0",
   "metadata": {},
   "source": [
    "(16.2.5)=\n",
    "### 16.2.5 Longest Common Sequence"
   ]
  },
  {
   "cell_type": "code",
   "execution_count": null,
   "id": "438b3bd6-64ac-4a1e-8068-1adb76e421b1",
   "metadata": {},
   "outputs": [],
   "source": []
  },
  {
   "cell_type": "markdown",
   "id": "b3cb7fec-91f7-4a21-8bba-f3ff12227f92",
   "metadata": {},
   "source": [
    "(16.2.6)=\n",
    "### 16.2.6 Transcription & Translation"
   ]
  },
  {
   "cell_type": "code",
   "execution_count": null,
   "id": "6d6ed25d-33bf-4ae6-bae6-b229671ad738",
   "metadata": {},
   "outputs": [],
   "source": []
  },
  {
   "cell_type": "markdown",
   "id": "d2d5ac75-73f0-461e-980b-522882025ef9",
   "metadata": {},
   "source": [
    "(16.2)=\n",
    "## 16.2 Structural Information\n",
    "\n",
    "In this second section, we will look at two common file formats for storing biochemical data: PDB and mmCIF. One thing these file formats have in common is that they are all text files, so information can always be extracted using pure Python code you wrote yourself. However, there are also preexisting tools that can make this process substantially easier such as [Biopython](https://biopython.org/) or [scikit-bio](http://scikit-bio.org/). Below you will see demonstrations of both approaches with an emphasis on using preexisting tools.\n",
    "\n",
    "Protein Database (PDB) and Macromolecular Crystallographic Information File (mmCIF) files are designed to hold protein sequence and structural information while the fasta file format only holds sequence data for proteins and nucleic acids. The fasta file format is simpler than the PDB and mmCIF file formats, but there is significant amounts of structural data contained in the former formats not provided with just the sequence."
   ]
  },
  {
   "cell_type": "markdown",
   "id": "86a0a09d-aefe-4940-910f-eff76f808d11",
   "metadata": {},
   "source": [
    "(16.2.1)=\n",
    "### 16.2.1 Reading PDB Files with Python\n",
    "\n",
    "The PDB file format is a classic file format for holding protein sequence and structual information including the information listed below. While the PDB is being slowly replaced by the mmCIF discussed below, the PDB file format is still quite common and worth looking at.\n",
    "\n",
    "- Amino acid sequence\n",
    "- Number of strands\n",
    "- Location and identity of non-amino acid species\n",
    "- *xyz* coordinates of atoms in the crystal structure including trapped solvents\n",
    "- Metadata about the protein (e.g., date collected, resolutin, etc...)\n",
    "- Secondary structure information \n",
    "\n",
    "PDB files are text files with the data arranged with specific line labels and infromation within a line is identified based on *position* in a line. This is in constrast to many other file types where data in a single line is distinguished by seperators such as commas or spaces. For more information on PDB file formats, see the [Protein Data Bank website](https://www.wwpdb.org/documentation/file-format).\n",
    "\n",
    "First, we need a PDB file a protein structure which can be downloaded for free from the [RCSB Protein Data Bank](https://www.rcsb.org/).  Select any protein that you find interesting and download the PDB file by clicking the **Download Files** menu on the top right and selecting **PDF Format**. While you're at it, also download the mmCIF (***PDBx/mmCIF Format**) and fasta (**FASTA Sequence**) files for your protein structure becasue we will look at those next. In the example below, we will look at Vanadium nitrogenase VFe protein in the **7aiz.pdf** file.\n",
    "\n",
    "If you are using Jupyter Lab, you can double click the PDB file to view the contents. The file is organized where each line holds a different type of information, and the far left of each line includes a label in all caps indicating what type of information is stored in each line. Below are some key labels (i.e., record type), but this is far from a comprehensive list.\n",
    "\n",
    "| Record Type | Description          |\n",
    "|-------------|-------------------------|\n",
    "|Header       | Name of protein and date |\n",
    "|TITLE        | Name of protein          |\n",
    "|COMPND       | Information about the compound |\n",
    "|SOURCE       | Information about the source of the protein (e.g., source organism) |\n",
    "|SEQRES       | Amino acid sequence and which strand each belongs         |\n",
    "|HET, HETNAM       | Information about non-amino acids in protein structure    |\n",
    "|HELIX        | Information about helicies including type, start and end amino acids, etc...|\n",
    "|SHEET        | Information about sheets including start and end amino acids and sense |\n",
    "|ATOM         | Information about indificiaul atoms in structure inclidng *xyz* coordinates, identity, amino acid, etc...|\n",
    "|"
   ]
  },
  {
   "cell_type": "markdown",
   "id": "e418bb1b-ea82-4c55-a279-c20fbd19e5e3",
   "metadata": {},
   "source": [
    "Before we begin using biopython to extract information from data files, we will use pure Python as shown below. This code opens the PDB file and appends each line as an item in a list called `data`. We can manually examine a few of the lines to see information about the structure of the protein. Below we see information about the helicies and sheets."
   ]
  },
  {
   "cell_type": "code",
   "execution_count": 65,
   "id": "d0b5245d-c0f4-4c19-a1e2-951f069c19fc",
   "metadata": {},
   "outputs": [],
   "source": [
    "file = 'data/7aiz.pdb'\n",
    "\n",
    "data = []\n",
    "with open(file, 'r') as f:\n",
    "    for line in f:\n",
    "        data.append(line)"
   ]
  },
  {
   "cell_type": "code",
   "execution_count": 66,
   "id": "24b15590-0e25-4b73-ab61-c092da123999",
   "metadata": {},
   "outputs": [
    {
     "data": {
      "text/plain": [
       "['HELIX  109 AM1 ARG F   24  THR F   44  1                                  21    \\n',\n",
       " 'HELIX  110 AM2 THR F   52  PHE F   73  1                                  22    \\n',\n",
       " 'HELIX  111 AM3 PRO F   74  GLN F   78  5                                   5    \\n',\n",
       " 'HELIX  112 AM4 ASN F   80  ILE F  100  1                                  21    \\n',\n",
       " 'SHEET    1 AA1 6 ILE A  19  LEU A  21  0                                        \\n',\n",
       " 'SHEET    2 AA1 6 TYR A 380  ASP A 383 -1  O  TYR A 381   N  TYR A  20           \\n',\n",
       " 'SHEET    3 AA1 6 GLN A 354  SER A 360  1  N  MET A 358   O  TYR A 380           \\n',\n",
       " 'SHEET    4 AA1 6 LYS A 330  THR A 335  1  N  MET A 331   O  GLN A 354           \\n',\n",
       " 'SHEET    5 AA1 6 VAL A 401  THR A 404  1  O  PHE A 403   N  ALA A 332           \\n',\n",
       " 'SHEET    6 AA1 6 TYR A 419  ASN A 421  1  O  VAL A 420   N  ILE A 402           \\n']"
      ]
     },
     "execution_count": 66,
     "metadata": {},
     "output_type": "execute_result"
    }
   ],
   "source": [
    "data[1190:1200]"
   ]
  },
  {
   "cell_type": "markdown",
   "id": "3613f41b-f85d-46a8-95a5-e7f60d37ab95",
   "metadata": {},
   "source": [
    "As an exercise, we can extract information about the $\\beta$-sheets in the protein. Specifically, we will look at the sense which is whether two strands run in the same direction (parallel) or in the opposite direction (antiparallel). This is indicated by the an integer in positions 39-40 of a SHEET line and can be either `0` for the first strand of a $\\beta$-sheet, `1` for a strand parallel with the previous strand, and `-1` for a strand antiparallel with the previous strand. The function below extract this information by opening the PDB `file`, moving through each line of the file, and if the line begins with `SHEET`, it appends the sense to a list and returns the populated list."
   ]
  },
  {
   "cell_type": "code",
   "execution_count": 67,
   "id": "7e17cfc1-13fb-4346-85df-e3f89dc5019d",
   "metadata": {},
   "outputs": [],
   "source": [
    "def get_sheet_direction(file):\n",
    "    '''Accepts a PDB files name (string) and returns a list\n",
    "    of values indicating if a strand starts a beta sheet (0),\n",
    "    strand is parallel to the previous strand (1), or is\n",
    "    anti-parallel to the previous strand (-1).\n",
    "    \n",
    "     >>> ('1abc.pdb') -> [0, 1, 1, 1, -1]\n",
    "    '''\n",
    "    \n",
    "    structure_list = []\n",
    "    \n",
    "    with open(file, 'r') as f:\n",
    "        for line in f:\n",
    "            if line.startswith('SHEET'):\n",
    "                sense = int(line[38:40].strip())\n",
    "                structure_list.append(sense)\n",
    "    \n",
    "    \n",
    "    return structure_list"
   ]
  },
  {
   "cell_type": "code",
   "execution_count": 68,
   "id": "31fbd6ca-10c4-46bb-b1b2-d2b96e22bf64",
   "metadata": {},
   "outputs": [
    {
     "name": "stdout",
     "output_type": "stream",
     "text": [
      "[0, -1, 1, 1, 1, 1, 0, 1, 1, 1, -1, 0, 1, 1, 1, 0, 1, 1, 1, 1, 1, 0, 1, 1, 1, 0, 1, 1, 1, 0, -1, 1, 1, 1, 1, 0, 1, 1, 1, -1, 0, 1, 1, 1, 0, 1, 1, 1, 1, 1, 0, 1, 1, 1, 0, 1, 1, 1]\n"
     ]
    }
   ],
   "source": [
    "sheet_sense = get_sheet_direction('data/7aiz.pdb')\n",
    "print(sheet_sense)"
   ]
  },
  {
   "cell_type": "code",
   "execution_count": 69,
   "id": "3ebea55a-894b-4782-a286-7cf21ddd9e4d",
   "metadata": {},
   "outputs": [
    {
     "data": {
      "text/plain": [
       "Text(0, 0.5, 'Count')"
      ]
     },
     "execution_count": 69,
     "metadata": {},
     "output_type": "execute_result"
    },
    {
     "data": {
      "image/png": "[encoded data removed]",
      "text/plain": [
       "<Figure size 640x480 with 1 Axes>"
      ]
     },
     "metadata": {},
     "output_type": "display_data"
    }
   ],
   "source": [
    "import seaborn as sns\n",
    "sns.countplot(x=sheet_sense, order=[-1, 0, 1])\n",
    "\n",
    "plt.xlabel('Sheet Sense')\n",
    "plt.ylabel('Count')"
   ]
  },
  {
   "cell_type": "markdown",
   "id": "b13b45f8-782b-40d1-9b69-61fe88251ebd",
   "metadata": {},
   "source": [
    "According to the above plot above, parallel $\\beta$-sheet strands are significantly more prevalent in this protein structure than antiparallel strands. This might be different for different proteins, so we will expand this analysis to a folder full or protein structures."
   ]
  },
  {
   "cell_type": "code",
   "execution_count": 70,
   "id": "503d1a81-126e-4a29-86e6-e0edd7d5ec88",
   "metadata": {},
   "outputs": [],
   "source": [
    "import os\n",
    "\n",
    "current_directory = os.getcwd()\n",
    "data_folder = os.path.join(current_directory, 'data/proteins')\n",
    "\n",
    "sheet_sense = []\n",
    "for file in os.listdir('data/proteins'):\n",
    "    if file.endswith('pdb'):\n",
    "        sheet_sense.extend(get_sheet_direction(os.path.join(data_folder,file)))"
   ]
  },
  {
   "cell_type": "code",
   "execution_count": 71,
   "id": "e5ffb83c-7ce3-46e2-94e5-fb8bfcd4c139",
   "metadata": {},
   "outputs": [
    {
     "data": {
      "text/plain": [
       "Text(0, 0.5, 'Count')"
      ]
     },
     "execution_count": 71,
     "metadata": {},
     "output_type": "execute_result"
    },
    {
     "data": {
      "image/png": "[encoded data removed]",
      "text/plain": [
       "<Figure size 640x480 with 1 Axes>"
      ]
     },
     "metadata": {},
     "output_type": "display_data"
    }
   ],
   "source": [
    "sns.countplot(x=sheet_sense, order=[-1, 0, 1])\n",
    "plt.xlabel('Sheet Sense')\n",
    "plt.ylabel('Count')"
   ]
  },
  {
   "cell_type": "markdown",
   "id": "0388a881-4515-4758-883b-b2cbd448d6d7",
   "metadata": {},
   "source": [
    "The trend is over a larger sample of proteins is that antiparallel is significantly more common than parallel, so it seems that the 7aiz protein structure is an exception to the typical rule. However, this is still little over a dozen structures, so it would require a much larger data set ot be certain of this trend."
   ]
  },
  {
   "cell_type": "markdown",
   "id": "26e05875-5267-448e-87d6-7ca0be255dba",
   "metadata": {},
   "source": [
    "(16.2.2)=\n",
    "### 16.2.2 Reading PDB Files with Biopython\n",
    "\n",
    "Next, we will use the biopython library to read data from PDB files. One of the appeals of using biopython is that the user does not need to understand the strucutre of the PDB file format; biopython handles extracting the desired information from the data file in the background. \n",
    "\n",
    "First, we need to import the `PDB` of the biopython library with the `import Bio.PDB` command (see [start of this chapter](16)) if you have not done so already. Biopython, like SciPy, requires that indivifual modules be imported one at a time instead of the entire library (i.e., you can't just type `import Bio`). If you prefer to import a function individually or module into the global namesapce to shorten your function calls (i.e., `from Bio.PDB import *` or `from Bio.PDB import PDBParser()`), you are welcome to do this, but herein we will use `import Bio.PDB` so that the code more clearly shows the source of every function. This module provides tools for dealing with the 3D structural data of macromolecules, such as proteins and DNA. Despite the name, the `PDB` module has tools for also dealing with the mmCIF, PQR, and MMTF file formats. "
   ]
  },
  {
   "cell_type": "markdown",
   "id": "41b2f91d-953e-47ca-843e-68521626e5e0",
   "metadata": {},
   "source": [
    "To parse the PDB file, we first create a **parser object** using the `Bio.PDB.PDBParser()` function. Like previous functions, we need to include the name of the library/module it is in, so in this case, `Bio.PDB.PDBParser()` means the `PDBParser()` function in the `PDB` module of the `Bio` (biopython) library. We will also want to attach our parser object to a variable."
   ]
  },
  {
   "cell_type": "code",
   "execution_count": 72,
   "id": "5c577edf-5e3b-4e12-8e3e-da6640baff05",
   "metadata": {},
   "outputs": [],
   "source": [
    "parser = PDB.PDBParser()"
   ]
  },
  {
   "cell_type": "markdown",
   "id": "2d51b647-df69-4225-a310-0a30a96290ed",
   "metadata": {},
   "source": [
    "We will then use the `get_structure()` function to read in data from a PDB file. This function requires two positional arguments - a name for the structure and the name of the file. Both arguments are strings. "
   ]
  },
  {
   "cell_type": "code",
   "execution_count": 73,
   "id": "83ec5407-792e-4050-a90b-ada00df8408c",
   "metadata": {},
   "outputs": [],
   "source": [
    "structure = parser.get_structure('7aiz', 'data/7aiz.pdb')"
   ]
  },
  {
   "cell_type": "markdown",
   "id": "f40a4812-77fb-49cd-9b61-f8b030f1e086",
   "metadata": {},
   "source": [
    "The structural data extracted from the PDB by biopython is organized in the hierarchal order of **structure** $\\rightarrow$ **model** $\\rightarrow$ **chain** $\\rightarrow$ **residue** $\\rightarrow$ **atom**. The structure is the protein, the model is a particular 3D model of the protein, the chain is a single peptide chain in the protein, the residue is single amino acid residue in the chain, and the atom is each atom within a given amino acid residue. \n",
    "\n",
    "| Level    |    Description      |\n",
    "|:----------:|:---------------------|\n",
    "|Structure   | Protein strucutre; may contain multiple models     |\n",
    "|Model       | Particular 3D structure of the protein  |\n",
    "|Chain       | Individual pepetide chain in the protein  |\n",
    "|Residue     | Amino acid residue in a given chain |\n",
    "|Atom        | Atoms in a particular amino acid residue |\n",
    "\n",
    "While PDB files can contain multiple structures of a protein, most only contain one. Even though there is only one model in our data, we will need to access the first (and only) model using indexing. For the first protein model, use `structure[0]`, and if there were a second, it would be `structure[1]`."
   ]
  },
  {
   "cell_type": "code",
   "execution_count": 74,
   "id": "7aca8e58-9b6f-4c94-ae08-e732cde17381",
   "metadata": {},
   "outputs": [],
   "source": [
    "protein_model = structure[0]"
   ]
  },
  {
   "cell_type": "markdown",
   "id": "32ca7be5-0253-4440-92b1-6b21c02fa8d1",
   "metadata": {},
   "source": [
    "We can obtain information about the protein model using the following methods. \n",
    "\n",
    "| Attribute/Function | Description                 |\n",
    "| -------- | -----------                 |\n",
    "|`center_of_mass()` | Returns 3D coordiantes of a chain's center of mass |\n",
    "|`child_dict` | Returns a dictionary with all amino acids and molecules (e.g., water) within a chain |\n",
    "|`get_id()`    | Returns the ID of a chain |\n",
    "|`get_parent()` | Returns the model to which the chain belongs |\n",
    "\n",
    "We can also iterate through the protein model to see that we have six chains A $\\rightarrow$ F."
   ]
  },
  {
   "cell_type": "code",
   "execution_count": 75,
   "id": "130ee246-155b-4088-bdcf-dbfa731ac9c9",
   "metadata": {},
   "outputs": [
    {
     "data": {
      "text/plain": [
       "array([106.83214 ,  15.709563, 131.85027 ], dtype=float32)"
      ]
     },
     "execution_count": 75,
     "metadata": {},
     "output_type": "execute_result"
    }
   ],
   "source": [
    "protein_model.center_of_mass()"
   ]
  },
  {
   "cell_type": "code",
   "execution_count": 76,
   "id": "b93a935e-97e4-4b39-a73e-a07ecae3fe1f",
   "metadata": {},
   "outputs": [
    {
     "name": "stdout",
     "output_type": "stream",
     "text": [
      "<Chain id=A>\n",
      "<Chain id=B>\n",
      "<Chain id=C>\n",
      "<Chain id=D>\n",
      "<Chain id=E>\n",
      "<Chain id=F>\n"
     ]
    }
   ],
   "source": [
    "for chain in protein_model:\n",
    "    print(chain)"
   ]
  },
  {
   "cell_type": "markdown",
   "id": "dbae703c-8b13-4154-8599-d1e01d972579",
   "metadata": {},
   "source": [
    "The above information is not the most enlightening, so lets look at the peptide sequences in this protein structure by initiating (i.e., creating) a polypeptide builder object using the using `PDB.PPBuilder()` and then building the polypetides using the `build_peptides()` method. The `build_peptides()` function accepts the structure as the one required piece of information and by default only returns standard amine acids in the peptide chains unless the `aa_only=False` optional argument is included. The pepetide information below is stored in the variable `peptides` which shows the six peptide chains in this particular protein structure along with sequence identifier integers that indication the position of the amino acid along the peptide chain."
   ]
  },
  {
   "cell_type": "code",
   "execution_count": 77,
   "id": "e75f096b-c6bb-40f5-adee-2ad6c2adf942",
   "metadata": {},
   "outputs": [
    {
     "data": {
      "text/plain": [
       "[<Polypeptide start=2 end=474>,\n",
       " <Polypeptide start=12 end=475>,\n",
       " <Polypeptide start=2 end=113>,\n",
       " <Polypeptide start=2 end=474>,\n",
       " <Polypeptide start=11 end=475>,\n",
       " <Polypeptide start=3 end=113>]"
      ]
     },
     "execution_count": 77,
     "metadata": {},
     "output_type": "execute_result"
    }
   ],
   "source": [
    "ppb = PDB.PPBuilder()\n",
    "peptides = ppb.build_peptides(structure[0])\n",
    "\n",
    "peptides"
   ]
  },
  {
   "cell_type": "markdown",
   "id": "40ed008d-06e6-41b1-b4ac-1f8f78790e72",
   "metadata": {},
   "source": [
    "We can iterate through the PolyPeptide object called `peptides` to get the individual peptide chains. With the peptide chains, we can obtain information about the peptide chain including the names of amino acids, phi ($\\phi$) and psi ($\\psi$) angles, etc., using the various methods tabulated below.\n",
    "\n",
    "| Attribute/Function | Description                 |\n",
    "| -------- | -----------                 |\n",
    "|`get_sequence()` |'Returns the squence of each strand using single-letter amino acid codes' |\n",
    "|`get_phi_psi_list()` | 'Returns a list of phi and psi dihedral angles in radians along peptide chain' |\n",
    "|`get_ca_list()`    | 'Returns list of alpha carbons in peptide chain' |\n",
    "|`get_theta_list()`    | 'Returns a list of theta angles in radians' |\n",
    "|`get_tau_list()` | 'Returns list of tau torsional angles in radians' |\n",
    "\n",
    "In the example below, we iterate through the peptide strands in `peptides` and print the amine acid sequence in single-letter code."
   ]
  },
  {
   "cell_type": "code",
   "execution_count": 78,
   "id": "b5616e8a-5fcf-4be8-8b69-ff354e6def30",
   "metadata": {},
   "outputs": [
    {
     "name": "stdout",
     "output_type": "stream",
     "text": [
      "PMVLLECDKDIPERQKHIYLKAPNEDTREFLPIANAATIPGTLSERGCAFCGAKLVIGGVLKDTIQMIHGPLGCAYDTWHTKRYPTDNGHFNMKYVWSTDMKESHVVFGGEKRLEKSMHEAFDEMPDIKRMIVYTTCPTALIGDDIKAVAKKVMKDRPDVDVFTVECPGFSGVSQSKGHHVLNIGWINEKVETMEKEITSEYTMNFIGDFNIQGDTQLLQTYWDRLGIQVVAHFTGNGTYDDLRCMHQAQLNVVNCARSSGYIANELKKRYGIPRLDIDSWGFNYMAEGIRKICAFFGIEEKGEELIAEEYAKWKPKLDWYKERLQGKKMAIWTGGPRLWHWTKSVEDDLGVQVVAMSSKFGHEEDFEKVIARGKEGTYYIDDGNELEFFEIIDLVKPDVIFTGPRVGELVKKLHIPYVNGHGYHNGPYMGFEGFVNLARDMYNAVHNPLRHLAAVDIRDKSQTTPVIVRGAA\n",
      "AEVKLSPRDREGIINPMYDCQPAGAQYAGIGIKDCIPLVHGGQGCTMFVRLLFAQHFKENFDVASTSLHEESAVFGGAKRVEEGVLVLARRYPNLRVIPIITTCSTEVIGDDIEGSIRVCNRALEAEFPDRKIYLAPVHTPSFKGSHVTGYAECVKSVFKTITDAHGKGQPSGKLNVFPGWVNPGDVVLLKRYFKEMDVEANIYMDTEDFDSPMLPNKSIETHGRTTVEDIADSANALATLSLARYEGNTTGELLQKTFAVPNALVNTPYGIKNTDDMLRKIAEVTGKEIPESLVRERGIALDALADLAHMFFANKKVAIFGHPDLVLGLAQFCMEVELEPVLLLIGDDQGNKYKKDPRIEELKNTAHFDIEIVHNADLWELEKRINAGLQLDLIMGHSKGRYVAIEANIPMVRVGFPTFDRAGLYRKPSIGYQGAMELGEMIANAMFAHMEYTRNKEWILNTW\n",
      "SQSHLDDLFAYVEERCLWQFFSRTWDREENIEGVLNQVGRLLTGQEPLRGTPQERLFYADALAMANDVRERFPWASQVNKEEIEFLLDGLKSRLVDVTITRSTNRELNHHLY\n",
      "PMVLLECDKDIPERQKHIYLKAPNEDTREFLPIANAATIPGTLSERGCAFCGAKLVIGGVLKDTIQMIHGPLGCAYDTWHTKRYPTDNGHFNMKYVWSTDMKESHVVFGGEKRLEKSMHEAFDEMPDIKRMIVYTTCPTALIGDDIKAVAKKVMKDRPDVDVFTVECPGFSGVSQSKGHHVLNIGWINEKVETMEKEITSEYTMNFIGDFNIQGDTQLLQTYWDRLGIQVVAHFTGNGTYDDLRCMHQAQLNVVNCARSSGYIANELKKRYGIPRLDIDSWGFNYMAEGIRKICAFFGIEEKGEELIAEEYAKWKPKLDWYKERLQGKKMAIWTGGPRLWHWTKSVEDDLGVQVVAMSSKFGHEEDFEKVIARGKEGTYYIDDGNELEFFEIIDLVKPDVIFTGPRVGELVKKLHIPYVNGHGYHNGPYMGFEGFVNLARDMYNAVHNPLRHLAAVDIRDKSQTTPVIVRGAA\n",
      "PAEVKLSPRDREGIINPMYDCQPAGAQYAGIGIKDCIPLVHGGQGCTMFVRLLFAQHFKENFDVASTSLHEESAVFGGAKRVEEGVLVLARRYPNLRVIPIITTCSTEVIGDDIEGSIRVCNRALEAEFPDRKIYLAPVHTPSFKGSHVTGYAECVKSVFKTITDAHGKGQPSGKLNVFPGWVNPGDVVLLKRYFKEMDVEANIYMDTEDFDSPMLPNKSIETHGRTTVEDIADSANALATLSLARYEGNTTGELLQKTFAVPNALVNTPYGIKNTDDMLRKIAEVTGKEIPESLVRERGIALDALADLAHMFFANKKVAIFGHPDLVLGLAQFCMEVELEPVLLLIGDDQGNKYKKDPRIEELKNTAHFDIEIVHNADLWELEKRINAGLQLDLIMGHSKGRYVAIEANIPMVRVGFPTFDRAGLYRKPSIGYQGAMELGEMIANAMFAHMEYTRNKEWILNTW\n",
      "QSHLDDLFAYVEERCLWQFFSRTWDREENIEGVLNQVGRLLTGQEPLRGTPQERLFYADALAMANDVRERFPWASQVNKEEIEFLLDGLKSRLVDVTITRSTNRELNHHLY\n"
     ]
    }
   ],
   "source": [
    "for strand in peptides:\n",
    "    pp = strand.get_sequence()\n",
    "    print(pp)"
   ]
  },
  {
   "cell_type": "markdown",
   "id": "fc66fabd-a225-4701-ace3-9cd4b7e151d0",
   "metadata": {},
   "source": [
    "(16.2.3)=\n",
    "### 16.2.3 Reading mmCIF Files with Biopython\n",
    "\n",
    "The **mmCIF** file format is the successor to the PDB format. An advantage of using biopython to parse files is that the code for dealing with PDB and mmCIF files are almost identical as biopython deals with the details of the file structures behind the scenes. The only difference in dealing with mmCIF files verus PDB in biopython is that we use the `PDB.MMCIFParder()` function to read the file instead of `PDB.PDBParser()`."
   ]
  },
  {
   "cell_type": "code",
   "execution_count": 79,
   "id": "9fdd14a2-c34b-475d-b140-fa1fd4b5720b",
   "metadata": {},
   "outputs": [
    {
     "name": "stdout",
     "output_type": "stream",
     "text": [
      "PMVLLECDKDIPERQKHIYLKAPNEDTREFLPIANAATIPGTLSERGCAFCGAKLVIGGVLKDTIQMIHGPLGCAYDTWHTKRYPTDNGHFNMKYVWSTDMKESHVVFGGEKRLEKSMHEAFDEMPDIKRMIVYTTCPTALIGDDIKAVAKKVMKDRPDVDVFTVECPGFSGVSQSKGHHVLNIGWINEKVETMEKEITSEYTMNFIGDFNIQGDTQLLQTYWDRLGIQVVAHFTGNGTYDDLRCMHQAQLNVVNCARSSGYIANELKKRYGIPRLDIDSWGFNYMAEGIRKICAFFGIEEKGEELIAEEYAKWKPKLDWYKERLQGKKMAIWTGGPRLWHWTKSVEDDLGVQVVAMSSKFGHEEDFEKVIARGKEGTYYIDDGNELEFFEIIDLVKPDVIFTGPRVGELVKKLHIPYVNGHGYHNGPYMGFEGFVNLARDMYNAVHNPLRHLAAVDIRDKSQTTPVIVRGAA\n",
      "AEVKLSPRDREGIINPMYDCQPAGAQYAGIGIKDCIPLVHGGQGCTMFVRLLFAQHFKENFDVASTSLHEESAVFGGAKRVEEGVLVLARRYPNLRVIPIITTCSTEVIGDDIEGSIRVCNRALEAEFPDRKIYLAPVHTPSFKGSHVTGYAECVKSVFKTITDAHGKGQPSGKLNVFPGWVNPGDVVLLKRYFKEMDVEANIYMDTEDFDSPMLPNKSIETHGRTTVEDIADSANALATLSLARYEGNTTGELLQKTFAVPNALVNTPYGIKNTDDMLRKIAEVTGKEIPESLVRERGIALDALADLAHMFFANKKVAIFGHPDLVLGLAQFCMEVELEPVLLLIGDDQGNKYKKDPRIEELKNTAHFDIEIVHNADLWELEKRINAGLQLDLIMGHSKGRYVAIEANIPMVRVGFPTFDRAGLYRKPSIGYQGAMELGEMIANAMFAHMEYTRNKEWILNTW\n",
      "SQSHLDDLFAYVEERCLWQFFSRTWDREENIEGVLNQVGRLLTGQEPLRGTPQERLFYADALAMANDVRERFPWASQVNKEEIEFLLDGLKSRLVDVTITRSTNRELNHHLY\n",
      "PMVLLECDKDIPERQKHIYLKAPNEDTREFLPIANAATIPGTLSERGCAFCGAKLVIGGVLKDTIQMIHGPLGCAYDTWHTKRYPTDNGHFNMKYVWSTDMKESHVVFGGEKRLEKSMHEAFDEMPDIKRMIVYTTCPTALIGDDIKAVAKKVMKDRPDVDVFTVECPGFSGVSQSKGHHVLNIGWINEKVETMEKEITSEYTMNFIGDFNIQGDTQLLQTYWDRLGIQVVAHFTGNGTYDDLRCMHQAQLNVVNCARSSGYIANELKKRYGIPRLDIDSWGFNYMAEGIRKICAFFGIEEKGEELIAEEYAKWKPKLDWYKERLQGKKMAIWTGGPRLWHWTKSVEDDLGVQVVAMSSKFGHEEDFEKVIARGKEGTYYIDDGNELEFFEIIDLVKPDVIFTGPRVGELVKKLHIPYVNGHGYHNGPYMGFEGFVNLARDMYNAVHNPLRHLAAVDIRDKSQTTPVIVRGAA\n",
      "PAEVKLSPRDREGIINPMYDCQPAGAQYAGIGIKDCIPLVHGGQGCTMFVRLLFAQHFKENFDVASTSLHEESAVFGGAKRVEEGVLVLARRYPNLRVIPIITTCSTEVIGDDIEGSIRVCNRALEAEFPDRKIYLAPVHTPSFKGSHVTGYAECVKSVFKTITDAHGKGQPSGKLNVFPGWVNPGDVVLLKRYFKEMDVEANIYMDTEDFDSPMLPNKSIETHGRTTVEDIADSANALATLSLARYEGNTTGELLQKTFAVPNALVNTPYGIKNTDDMLRKIAEVTGKEIPESLVRERGIALDALADLAHMFFANKKVAIFGHPDLVLGLAQFCMEVELEPVLLLIGDDQGNKYKKDPRIEELKNTAHFDIEIVHNADLWELEKRINAGLQLDLIMGHSKGRYVAIEANIPMVRVGFPTFDRAGLYRKPSIGYQGAMELGEMIANAMFAHMEYTRNKEWILNTW\n",
      "QSHLDDLFAYVEERCLWQFFSRTWDREENIEGVLNQVGRLLTGQEPLRGTPQERLFYADALAMANDVRERFPWASQVNKEEIEFLLDGLKSRLVDVTITRSTNRELNHHLY\n"
     ]
    }
   ],
   "source": [
    "parser = PDB.MMCIFParser()\n",
    "structure = parser.get_structure('7aiz', 'data/7aiz.cif')\n",
    "peptides = PDB.PPBuilder().build_peptides(structure[0])\n",
    "\n",
    "for strand in peptides:\n",
    "    print(strand.get_sequence())"
   ]
  },
  {
   "cell_type": "code",
   "execution_count": 80,
   "id": "b84c5add-83b6-47b9-899a-d8fa38334256",
   "metadata": {},
   "outputs": [
    {
     "data": {
      "text/plain": [
       "<Chain id=A>"
      ]
     },
     "execution_count": 80,
     "metadata": {},
     "output_type": "execute_result"
    }
   ],
   "source": [
    "chain_A = structure[0]['A']\n",
    "chain_A"
   ]
  },
  {
   "cell_type": "code",
   "execution_count": 81,
   "id": "4320e27a-0ea6-4d88-b9fd-7727f5113542",
   "metadata": {},
   "outputs": [
    {
     "data": {
      "text/plain": [
       "<Residue THR het=  resseq=43 icode= >"
      ]
     },
     "execution_count": 81,
     "metadata": {},
     "output_type": "execute_result"
    }
   ],
   "source": [
    "chain_A[43]"
   ]
  },
  {
   "cell_type": "code",
   "execution_count": 82,
   "id": "607e69f8-89c7-4c8c-b2ef-bebbf7c92b9e",
   "metadata": {},
   "outputs": [
    {
     "data": {
      "text/plain": [
       "[<Atom N>, <Atom CA>, <Atom C>, <Atom O>, <Atom CB>, <Atom OG1>, <Atom CG2>]"
      ]
     },
     "execution_count": 82,
     "metadata": {},
     "output_type": "execute_result"
    }
   ],
   "source": [
    "THR_atoms = chain_A[43].get_unpacked_list()\n",
    "THR_atoms"
   ]
  },
  {
   "cell_type": "markdown",
   "id": "a4afaf12-bac9-4bd2-b53b-0279e9534cf7",
   "metadata": {},
   "source": [
    "| Attribute/Function | Description                 |\n",
    "| -------- | -----------                 |\n",
    "|`get_name()` |'Returns the name of the atom' |\n",
    "|`get_coord()` | 'Returns the *xyz* coordinates of the atom as an array' |\n",
    "|`get_vector()`    | 'Returns the *xyz* coordinates of the atom as a vector' |\n",
    "|`transform()`    | 'Rotate or translate the atomic coordinates along the *xyz* axes' |"
   ]
  },
  {
   "cell_type": "code",
   "execution_count": 83,
   "id": "31de9e3c-80bd-4751-9bcf-318b7fe55254",
   "metadata": {},
   "outputs": [
    {
     "data": {
      "text/plain": [
       "array([87.589,  7.166, 96.102], dtype=float32)"
      ]
     },
     "execution_count": 83,
     "metadata": {},
     "output_type": "execute_result"
    }
   ],
   "source": [
    "THR_N = THR_atoms[0]\n",
    "THR_N.get_coord()"
   ]
  },
  {
   "cell_type": "code",
   "execution_count": 84,
   "id": "7fedb57b-9a15-46e8-b18e-980ffcb8f733",
   "metadata": {},
   "outputs": [
    {
     "data": {
      "text/plain": [
       "array([1., 2., 1.])"
      ]
     },
     "execution_count": 84,
     "metadata": {},
     "output_type": "execute_result"
    }
   ],
   "source": [
    "THR_N.transform(0, (1,2,1))\n",
    "THR_N.get_coord()"
   ]
  },
  {
   "cell_type": "code",
   "execution_count": 85,
   "id": "2b97e860-927c-4c6f-bd04-0cd9c48852b7",
   "metadata": {},
   "outputs": [
    {
     "data": {
      "text/plain": [
       "'CA'"
      ]
     },
     "execution_count": 85,
     "metadata": {},
     "output_type": "execute_result"
    }
   ],
   "source": [
    "THR_atoms[1].get_name()"
   ]
  },
  {
   "cell_type": "code",
   "execution_count": 86,
   "id": "982cbb3b-e8ef-4cba-8915-36c5939fee66",
   "metadata": {},
   "outputs": [
    {
     "name": "stdout",
     "output_type": "stream",
     "text": [
      "<Chain id=A>\n",
      "<Chain id=B>\n",
      "<Chain id=C>\n",
      "<Chain id=D>\n",
      "<Chain id=E>\n",
      "<Chain id=F>\n"
     ]
    }
   ],
   "source": [
    "for chain in structure[0]:\n",
    "    print(chain)\n",
    "    for res in chain.get_residues():\n",
    "        pass\n",
    "        #print(res)\n",
    "        #print(res.get_resname())"
   ]
  },
  {
   "cell_type": "code",
   "execution_count": 87,
   "id": "9a131bec-04c1-433e-95ad-b606d0a02ae1",
   "metadata": {},
   "outputs": [],
   "source": [
    "for chain in structure[0]:\n",
    "    for res in chain.get_residues():\n",
    "        pass\n",
    "        #print(res.get_atoms())"
   ]
  },
  {
   "cell_type": "markdown",
   "id": "fbd8d645-01e7-4e0a-af67-ca6649f369a5",
   "metadata": {},
   "source": [
    "(16.2.4)=\n",
    "### 16.2.4 Writing Files with Biopython\n",
    "\n",
    "Biopython is capable of writing structures to new PDB or mmCIF files, but it will not include much of the metadata (e.g., resolution, name of structure, authors, etc.) and information about secondary structures in the new files.\n",
    "\n",
    "The general methodology is to first create a writing object using either `PDB.PBDIO()` or `PDB.MMCIFIO()` for creating a new PDB or mmCIF file, respectively. Next, use the `set_structure()` method on the writing object to load the data from an individual structure. Finally, write the file using the `save()` function and providing it with the name of the new file as a string."
   ]
  },
  {
   "cell_type": "code",
   "execution_count": 88,
   "id": "8e773f85-5564-46e7-b40d-6960a891b5fe",
   "metadata": {},
   "outputs": [],
   "source": [
    "# write a new PDB\n",
    "io = PDB.PDBIO()\n",
    "io.set_structure(structure[0])\n",
    "io.save('new_protein.pdb')"
   ]
  },
  {
   "cell_type": "code",
   "execution_count": 89,
   "id": "99e644e9-3d9b-4b4b-aa40-80990c20152f",
   "metadata": {},
   "outputs": [],
   "source": [
    "# write a new mmCIF\n",
    "io = PDB.MMCIFIO()\n",
    "io.set_structure(structure[0])\n",
    "io.save('new_protein.cif')"
   ]
  },
  {
   "cell_type": "markdown",
   "id": "d9005416-a7a2-4f32-b481-7ff0ee9e0dee",
   "metadata": {},
   "source": [
    "(16.2.5)=\n",
    "### 16.2.5 Creating Ramachandran Plots\n",
    "\n",
    "```{Ramachandran}\n",
    "```\n",
    "\n",
    "As an example application, we can generate a Ramachandran plot which visualizes the trends of the psi ($\\psi$) versus phi ($\\phi$) dihedral angles in amino acids along a peptide chain. While the omega ($\\omega$) dihedral angles tend to be flat, the psi ($\\psi$) versus phi ($\\phi$) dihedral angles tend to exist in distinct ranges.\n",
    "\n",
    "![peptide_angles](img/tripeptide_gray.png)\n",
    "\n",
    "The general methodology below is:\n",
    "\n",
    "1. Parse PDB files in the **data/proteins** folder using a PDB parser\n",
    "2. Build a PolyPeptide object using a PDB builder\n",
    "3. Iterate over the peptides and store the psi ($\\psi$) and phi ($\\phi$) dihedral angles \n",
    "4. Plot the results as psi ($\\psi$) versus phi ($\\phi$) \n"
   ]
  },
  {
   "cell_type": "code",
   "execution_count": 90,
   "id": "44f1860a-ac1a-4359-a4b5-f1a75001cba1",
   "metadata": {},
   "outputs": [],
   "source": [
    "phi, psi  = [], []\n",
    "\n",
    "current_directory = os.getcwd()\n",
    "data_folder = os.path.join(current_directory, 'data/proteins')\n",
    "\n",
    "parser = PDB.PDBParser()\n",
    "ppb = PDB.PPBuilder()\n",
    "\n",
    "for file in os.listdir('data/proteins'):\n",
    "    if file.endswith('pdb'):\n",
    "        data = parser.get_structure('file', os.path.join(data_folder,file))\n",
    "        peptides = ppb.build_peptides(structure[0])\n",
    "        for strand in peptides:\n",
    "            phi.extend(x[0] for x in strand.get_phi_psi_list()[1:-1])\n",
    "            psi.extend(x[1] for x in strand.get_phi_psi_list()[1:-1])"
   ]
  },
  {
   "cell_type": "code",
   "execution_count": 91,
   "id": "73b79644-c85e-4bab-aa1a-5131370359c1",
   "metadata": {},
   "outputs": [
    {
     "data": {
      "text/plain": [
       "[-1.3622662865512234,\n",
       " -2.082128843031602,\n",
       " -1.629730041310295,\n",
       " -1.2628488964604423,\n",
       " -1.0321883323569294,\n",
       " -1.1999644248445689,\n",
       " -1.947941926012007,\n",
       " -0.9393921001349734,\n",
       " -1.6608728663825387,\n",
       " -2.2830767525823616]"
      ]
     },
     "execution_count": 91,
     "metadata": {},
     "output_type": "execute_result"
    }
   ],
   "source": [
    "phi[:10]"
   ]
  },
  {
   "cell_type": "code",
   "execution_count": 92,
   "id": "b6a05518-9c3e-4c18-a3bc-ecd974abcdc5",
   "metadata": {},
   "outputs": [
    {
     "data": {
      "image/png": "[encoded data removed]",
      "text/plain": [
       "<Figure size 640x480 with 1 Axes>"
      ]
     },
     "metadata": {},
     "output_type": "display_data"
    }
   ],
   "source": [
    "plt.scatter(phi, psi, s=1)\n",
    "plt.xlabel('phi $\\phi$, degrees')\n",
    "plt.ylabel('psi $\\psi$, degrees');"
   ]
  },
  {
   "cell_type": "markdown",
   "id": "204f2aea-9555-4dcf-a277-7e5fb7602ac7",
   "metadata": {},
   "source": [
    "You may notice that the first and last dihedral angles were slices off the list of phi and psi angles (last two lines of code). This is becuase there are no phi ($\\phi$) values for first amino acid and no psi ($\\psi$) values in the last amino acid. Dihedral angle measurements require four atoms, and those terminal amino acids are missing one of the required four atoms. For example, phi ($\\phi$) dihedral angles are measured from the N-C$_\\alpha$ bond of a C(O)-N-C$_\\alpha$-C(O) chain of atoms, but the first amine acids only have N-C$_\\alpha$-C(O)."
   ]
  },
  {
   "cell_type": "markdown",
   "id": "69552def-75e1-42bb-af3f-8297d5111d57",
   "metadata": {},
   "source": [
    "The Ramachandran plot above is in radians which can be converted to degree (1 radian = 180/$\\pi$) as is done below."
   ]
  },
  {
   "cell_type": "code",
   "execution_count": 93,
   "id": "88a19fdd-ec78-44ee-b9e7-5309a33ef2cc",
   "metadata": {},
   "outputs": [
    {
     "data": {
      "image/png": "[encoded data removed]",
      "text/plain": [
       "<Figure size 640x480 with 1 Axes>"
      ]
     },
     "metadata": {},
     "output_type": "display_data"
    }
   ],
   "source": [
    "import math\n",
    "psi_deg = [rad * (180 / math.pi) for rad in psi]\n",
    "phi_deg = [rad * (180 / math.pi) for rad in phi]\n",
    "\n",
    "plt.scatter(phi_deg, psi_deg, s=1)\n",
    "plt.xlabel('phi $\\phi$, degrees')\n",
    "plt.ylabel('psi $\\psi$, degrees');"
   ]
  },
  {
   "cell_type": "markdown",
   "id": "826c3394-9d37-49d3-86e7-98ddab9a96db",
   "metadata": {
    "jp-MarkdownHeadingCollapsed": true
   },
   "source": [
    "Other representations of Ramachandran plots using different plotting types or color coding the markers based on secondary protein structure can be seen in [Notebook 3 of the Visualization of Top8000 Protein Dataset](https://weisscharlesj.github.io/BiopythonRamachandran/VisTop8000_COMPLETE/03Ramachandran/03Ramachandran_Plot_v8.html) mini tutorial."
   ]
  },
  {
   "cell_type": "markdown",
   "id": "5ad19363-497d-4c12-9778-9ae9ca27d082",
   "metadata": {},
   "source": [
    "(16.3)=\n",
    "## [FINISH] 16.3 Visualizing Biomolecules"
   ]
  },
  {
   "cell_type": "markdown",
   "id": "91cfe6d1-587b-46e8-9174-cf6acd300b54",
   "metadata": {},
   "source": [
    "(16.3.1)=\n",
    "### 16.3.1 "
   ]
  },
  {
   "cell_type": "markdown",
   "id": "ea5e6b36-855f-456c-9f15-586a16d13b89",
   "metadata": {},
   "source": [
    "(16.3.2)=\n",
    "### 16.3.2 "
   ]
  },
  {
   "cell_type": "code",
   "execution_count": null,
   "id": "697ab0ba-805b-42aa-b866-2b2b3f6531e5",
   "metadata": {},
   "outputs": [],
   "source": []
  },
  {
   "cell_type": "markdown",
   "id": "0d2199d7-5b8d-4f97-a124-bedf9f75feda",
   "metadata": {},
   "source": [
    "(16.3)=\n",
    "### 16.3\n"
   ]
  },
  {
   "cell_type": "code",
   "execution_count": null,
   "id": "def01c3f-c37e-4032-a1fb-949d1b797ab7",
   "metadata": {},
   "outputs": [],
   "source": []
  },
  {
   "cell_type": "code",
   "execution_count": null,
   "id": "c2a16132-7ad5-4537-9440-f8b20b7d71ff",
   "metadata": {},
   "outputs": [],
   "source": []
  },
  {
   "cell_type": "code",
   "execution_count": null,
   "id": "293c1521-68de-4781-907e-ce711ccd4e9c",
   "metadata": {},
   "outputs": [],
   "source": []
  },
  {
   "cell_type": "code",
   "execution_count": null,
   "id": "a18c7085-6f1a-4dd7-a9a1-ce1ff7d1efe5",
   "metadata": {},
   "outputs": [],
   "source": []
  },
  {
   "cell_type": "markdown",
   "id": "dc51af77-f6a4-488f-9beb-cef149c71447",
   "metadata": {},
   "source": [
    "## Further Reading\n",
    "\n",
    "1. PDB format documentation. https://www.wwpdb.org/documentation/file-format (free resource)\n",
    "\n",
    "2. Introduction to PDB File Format. https://www.cgl.ucsf.edu/chimera/docs/UsersGuide/tutorials/pdbintro.html (free resource)\n",
    "\n",
    "3. Biopython Website. https://biopython.org (free resource)\n",
    "\n",
    "4. Scikit-bio Website. http://scikit-bio.org (free resource). This is another related library with many similar features that may be of interest to Biopython users.\n",
    "\n",
    "\n",
    "\n",
    "Cock, P. J. A.; Antao, T.; Chang, J. T.; Chapman, B. A.; Cox, C. J.; Dalke, A.; Friedberg, I.; Hamelryck, T.; Kauff, F.; Wilczynski, B.; De Hoon, M. J. L. Biopython: Freely Available Python Tools for Computational Molecular Biology and Bioinformatics. Bioinformatics 2009, 25, 1422– 1423,"
   ]
  },
  {
   "cell_type": "markdown",
   "id": "8157b1fc-dbde-4c7e-bd79-a5d6077d377b",
   "metadata": {},
   "source": [
    "## [FINISH] Exercises\n",
    "\n",
    "Complete the following exercises in a Jupyter notebook using the Biopython library or pure Python, unless otherwise noted. Any data file(s) refered to in the problems can be found in the [data](https://github.com/weisscharlesj/SciCompforChemists/tree/master/notebooks) folder in the same directory as this chapter's Jupyter notebook. Alternatively, you can download a zip file of the data for this chapter from [here](https://github.com/weisscharlesj/data_SciCompforChem) by selecting the appropriate chapter file and then clicking the **Download** button."
   ]
  },
  {
   "cell_type": "markdown",
   "id": "2276f38a-12fc-42a2-9933-133b80cd860d",
   "metadata": {},
   "source": [
    "1. Using either pure Python or Biopython, generate a histogram plot that shows the frequency of peptide strand lengths in peptides in the **proteins** folder.\n",
    "   \n",
    "2. Generate a histogram plot showing the frequency of tau angle in peptide strands\n",
    "   \n",
    "3. Generate overlaying histrograms showing the frequency distribution of phi, psi, and omega dihedral bond angles.\n",
    "   \n",
    "4. Reading sequences from FASTA and do some analysis (Hamming distance + sequence alignment)\n",
    "   \n",
    "6. Read in PDB file and extract information (\n",
    "   \n",
    "8. Read numerous PDB files and extract information (average length of strands, average length of sheets???,\n",
    "   \n",
    "10. Load and visualize a protein (nglview?)"
   ]
  }
 ],
 "metadata": {
  "kernelspec": {
   "display_name": "Python 3 (ipykernel)",
   "language": "python",
   "name": "python3"
  },
  "language_info": {
   "codemirror_mode": {
    "name": "ipython",
    "version": 3
   },
   "file_extension": ".py",
   "mimetype": "text/x-python",
   "name": "python",
   "nbconvert_exporter": "python",
   "pygments_lexer": "ipython3",
   "version": "3.11.4"
  }
 },
 "nbformat": 4,
 "nbformat_minor": 5
}
