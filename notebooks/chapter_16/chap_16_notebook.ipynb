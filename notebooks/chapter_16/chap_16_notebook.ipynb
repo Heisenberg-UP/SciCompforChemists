{
 "cells": [
  {
   "cell_type": "markdown",
   "id": "a575954a-08c4-4ca1-b5e1-dd8a6d958026",
   "metadata": {},
   "source": [
    "(16)=\n",
    "# Chapter 16: Bioinformations with Biopython\n",
    "\n",
    "Bioinformatics is the field of working with biological or biochemical data using computing resources, and while the data is fundamentally no different than the data seen so far, this field is large and significant enough to warrant its own chapter. More importantly, bioinformatics contains a multitude of different file formats making this a significant hurdle in working with these data. The good news is that these file formats are usually text files like seen in the previous chapters, and there are Python libraries available to facilitate the parsing and working with these file formats and data. This chapter will start by looking at a few common file formats, parsing them with our own code followed by introducing the biopython library to perform the heavy lifting.\n",
    "\n",
    "This chapter will be utilizing the biopython library which  which is among the well-known libraries for working with biological and biochemical data. It will need to be installed in Anaconda and Google Colab as it is not a standard library. As of this writing, it can be installed [using pip](https://biopython.org/wiki/Download) by `pip install biopython`. Once installed, it is imported as `Bio`. This chapter assums the following imports."
   ]
  },
  {
   "cell_type": "code",
   "execution_count": 47,
   "id": "cc3662af-6b88-4212-a9f6-195fc9edd060",
   "metadata": {},
   "outputs": [],
   "source": [
    "import Bio\n",
    "from Bio import PDB, SeqIO, SeqUtils\n",
    "\n",
    "import warnings\n",
    "from Bio import BiopythonWarning\n",
    "warnings.simplefilter('ignore', BiopythonWarning)\n",
    "\n",
    "import matplotlib.pyplot as plt"
   ]
  },
  {
   "cell_type": "markdown",
   "id": "d9b86115-9014-499a-88d9-fa8af39f59d3",
   "metadata": {},
   "source": [
    "(16.1)=\n",
    "## 16.1 [FINISH] Working with Sequences\n",
    "\n",
    "Among the most fundimental data in bioinformatics is sequence data which simply provides the order of monomers in a sequence of nucleotides or amino acids. For protein sequences, these monomers are mainly the 20 common amino acids, but other less frequent amino acids and other species may be present, and for nucleic acid sequences, these are nucleotide bases. \n",
    "- import fasta files\n",
    "- GC content\n",
    "- transcription/translation\n",
    "- sequence alignment"
   ]
  },
  {
   "cell_type": "markdown",
   "id": "e0a25460-2185-41af-a3ed-e3db0da0579e",
   "metadata": {},
   "source": [
    "(16.2.1)=\n",
    "### 16.2.1 Reading FASTA Files with Biopython\n",
    "\n",
    "There are numberous file formats that can store sequence data, but for the examples in this section, we will focus on the FASTA file format which only holds the sequence data and some metadata (i.e., data about the data). FASTA files are fundimentally just text files that look like the following when opened in a text editor. The first line begins with a > and includes helpful information about the sequence such as the organism and what specific molecule it belongs to or codes for. The rest of the file is sequence information. There is no strict rule on how many letters can be contained in each line, but 70 is a common length.\n",
    "\n",
    ">\\>7AIZ_1|Chains A, D|Nitrogenase vanadium-iron protein alpha chain|Azotobacter vinelandii (354)\n",
    "MPMVLLECDKDIPERQKHIYLKAPNEDTREFLPIANAATIPGTLSERGCAFCGAKLVIGGVLKDTIQMIH\n",
    "MPMVLLECDKDIPERQKHIYLKAPNEDTREFLPIANAATIPGTLSERGCAFCGAKLVIGGVLKDTIQMIH\n",
    "GPLGCAYDTWHTKRYPTDNGHFNMKYVWSTDMKESHVVFGGEKRLEKSMHEAFDEMPDIKRMIVYTTCPT\n",
    "ALIGDDIKAVAKKVMKDRPDVDVFTVECPGFSGVSQSKGHHVLNIGWINEKVETMEKEITSEYTMNFIGD\n",
    "FNIQGDTQLLQTYWDRLGIQVVAHFTGNGTYDDLRCMHQAQLNVVNCARSSGYIANELKKRYGIPRLDID\n",
    "SWGFNYMAEGIRKICAFFGIEEKGEELIAEEYAKWKPKLDWYKERLQGKKMAIWTGGPRLWHWTKSVEDD\n",
    "LGVQVVAMSSKFGHEEDFEKVIARGKEGTYYIDDGNELEFFEIIDLVKPDVIFTGPRVGELVKKLHIPYV\n",
    "NGHGYHNGPYMGFEGFVNLARDMYNAVHNPLRHLAAVDIRDKSQTTPVIVRGAA\n",
    "\n",
    "\n",
    "\n",
    "\n"
   ]
  },
  {
   "cell_type": "code",
   "execution_count": 2,
   "id": "0f66f5bd-dba0-48b3-ae27-ff144f97e1f6",
   "metadata": {},
   "outputs": [
    {
     "data": {
      "text/plain": [
       "69"
      ]
     },
     "execution_count": 2,
     "metadata": {},
     "output_type": "execute_result"
    }
   ],
   "source": [
    "len('MPMVLLECDKDIPERQKHIYLKAPNEDTREFLPIANAATIPGTLSERGCAFCGAKLVIGGVLKDTIQMI')"
   ]
  },
  {
   "cell_type": "code",
   "execution_count": 36,
   "id": "faaa58fb-8b90-4e3a-a358-f2a93b434124",
   "metadata": {},
   "outputs": [],
   "source": [
    "mouse = SeqIO.parse('data/hemoglobin_mRNA_mouse.fasta', 'fasta')"
   ]
  },
  {
   "cell_type": "code",
   "execution_count": 37,
   "id": "3b01fe4a-5b0a-47e9-a071-ccde0f524793",
   "metadata": {},
   "outputs": [
    {
     "name": "stdout",
     "output_type": "stream",
     "text": [
      "NM_008218.2\n",
      "GACACTTCTGATTCTGACAGACTCAGGAAGAAACCATGGTGCTCTCTGGGGAAGACAAAAGCAACATCAAGGCTGCCTGGGGGAAGATTGGTGGCCATGGTGCTGAATATGGAGCTGAAGCCCTGGAAAGGATGTTTGCTAGCTTCCCCACCACCAAGACCTACTTCCCTCACTTTGATGTAAGCCACGGCTCTGCCCAGGTCAAGGGTCACGGCAAGAAGGTCGCCGATGCTCTGGCCAATGCTGCAGGCCACCTCGATGACCTGCCCGGTGCCCTGTCTGCTCTGAGCGACCTGCATGCCCACAAGCTGCGTGTGGATCCCGTCAACTTCAAGCTCCTGAGCCACTGCCTGCTGGTGACCTTGGCTAGCCACCACCCTGCCGATTTCACCCCCGCGGTGCATGCCTCTCTGGACAAATTCCTTGCCTCTGTGAGCACCGTGCTGACCTCCAAGTACCGTTAAGCTGCCTTCTGCGGGGCTTGCCTTCTGGCCATGCCCTTCTTCTCTCCCTTGCACCTGTACCTCTTGGTCTTTGAATAAAGCCTGAGTAGGAAGAAAAAAAAAAAA\n",
      "NM_008218.2 Mus musculus hemoglobin alpha, adult chain 1 (Hba-a1), mRNA\n"
     ]
    }
   ],
   "source": [
    "for record in mouse:\n",
    "    print(record.id)\n",
    "    print(record.seq)\n",
    "    print(record.description)"
   ]
  },
  {
   "cell_type": "markdown",
   "id": "c2a6a033-1a04-4808-b3c5-4b3579414313",
   "metadata": {},
   "source": [
    "This is a one-time use object. Running the same code below gives no output."
   ]
  },
  {
   "cell_type": "code",
   "execution_count": 35,
   "id": "95502363-e4eb-47dc-81ef-d78d35f87427",
   "metadata": {},
   "outputs": [],
   "source": [
    "for record in mouse:\n",
    "    print(record.id)\n",
    "    print(record.seq)\n",
    "    print(record.description)"
   ]
  },
  {
   "cell_type": "markdown",
   "id": "434a1066-1cdb-4da7-80b6-53c1ba5e2950",
   "metadata": {},
   "source": []
  },
  {
   "cell_type": "code",
   "execution_count": 39,
   "id": "6cf9b731-d0db-4770-91a4-60971b2bd105",
   "metadata": {},
   "outputs": [],
   "source": [
    "sequences = SeqIO.parse('data/rcsb_pdb_7AIZ.fasta', 'fasta')"
   ]
  },
  {
   "cell_type": "code",
   "execution_count": 40,
   "id": "415b0928-54bd-4260-8996-52748a168039",
   "metadata": {},
   "outputs": [
    {
     "name": "stdout",
     "output_type": "stream",
     "text": [
      "7AIZ_1|Chains\n",
      "7AIZ_2|Chains\n",
      "7AIZ_3|Chains\n"
     ]
    }
   ],
   "source": [
    "for sequence in sequences:\n",
    "    print(sequence.id)"
   ]
  },
  {
   "cell_type": "code",
   "execution_count": null,
   "id": "76692563-cc05-4657-90db-ba75ba96b28f",
   "metadata": {},
   "outputs": [],
   "source": []
  },
  {
   "cell_type": "markdown",
   "id": "2aea29aa-2763-41d5-a119-ce37e8351da0",
   "metadata": {},
   "source": [
    "(16.2.2)=\n",
    "### 16.2.2 GC Content of Nucleotide Sequence\n",
    "\n",
    "```{index} GC content\n",
    "```\n",
    "\n",
    "One piece of information we can extract from a nucleotide sequence is the GC content. In DNA, for example, there are two complementary strands hydrogen bonded together which contain the base pairs adenosine(A)/thymine(T) and guanidine(G)/cytosine(C), so the number of adenosines equals the number of thymines and the number of guanidines equals the number of cytosines. However, the number of A/T pairs does not neccesarily equal the number of G/C pairs. The ratio of G/C to A/T can have an effect on the stability of a DNA structure among other things. The *GC content* of DNA is the percent of total bases that are G/C.\n",
    "\n",
    "$$ GC \\,\\, content = \\frac{G + C}{G + C + A + T}  $$\n",
    "\n",
    "Below, we will calculate the GC content of a DNA sequence in a FASTA using Biopython's `gc_fraction(seq)` function which accepts a Biopython sequence and returns the GC content in fraction form. \n",
    "\n",
    "Sometimes there are characters in a DNA seuqence other than A, T, C, and G due to ambiguities among other reasons. The `N` means that the base is unidentifiable while `S` means it is C or G and `W` means it is either A or T. The `gc_fraction()` function provides a parameter\n",
    "\n",
    "| Option | Description |\n",
    "|-------|--------------|\n",
    "|`'remove'`| Default setting; uses 'ATCGSW' characters and ignores the rest |\n",
    "|`'weighted'`| |\n",
    "`'ignore'` | |"
   ]
  },
  {
   "cell_type": "code",
   "execution_count": 64,
   "id": "3d1cb58e-bfb9-4e54-9733-45c4f5e271f1",
   "metadata": {},
   "outputs": [
    {
     "data": {
      "text/plain": [
       "0.5296912114014252"
      ]
     },
     "execution_count": 64,
     "metadata": {},
     "output_type": "execute_result"
    }
   ],
   "source": [
    "rat = SeqIO.parse('data/DNA_sequence.fasta', 'fasta')\n",
    "rat_seq = [x.seq for x in rat]\n",
    "\n",
    "SeqUtils.gc_fraction(*rat_seq)"
   ]
  },
  {
   "cell_type": "markdown",
   "id": "15e7b054-98de-49b5-b073-3a653a526e78",
   "metadata": {},
   "source": [
    "(16.2.3)=\n",
    "### 16.2.3 Hamming Distance"
   ]
  },
  {
   "cell_type": "code",
   "execution_count": 7,
   "id": "f5c87df9-7e76-44f6-bc07-d1d6eb3e7652",
   "metadata": {},
   "outputs": [],
   "source": [
    "dna1 = 'ATCCTGCATTAGGGAGCTTTTATTGCCCAATAGCTA'\n",
    "dna2 = 'ATCCTGGATTAGGGAGCATTTATTGCCCAATAGGTA'"
   ]
  },
  {
   "cell_type": "code",
   "execution_count": 8,
   "id": "35b6ecc1-332f-4fec-8fdd-a0fe23191522",
   "metadata": {},
   "outputs": [
    {
     "name": "stdout",
     "output_type": "stream",
     "text": [
      "3\n"
     ]
    }
   ],
   "source": [
    "dna = zip(dna1, dna2)\n",
    "\n",
    "hamming = 0\n",
    "for position in dna:\n",
    "    if position[0] != position[1]:\n",
    "        hamming += 1\n",
    "\n",
    "print(hamming)"
   ]
  },
  {
   "cell_type": "code",
   "execution_count": 9,
   "id": "78b5e006-d86d-4c2b-a8b6-201ae3f7f66a",
   "metadata": {},
   "outputs": [],
   "source": [
    "from scipy.spatial import distance\n",
    "dist = distance.hamming(list(dna1), list(dna2))"
   ]
  },
  {
   "cell_type": "code",
   "execution_count": 10,
   "id": "d33c5077-43e7-4416-aa09-ed3c5ae40b44",
   "metadata": {},
   "outputs": [
    {
     "data": {
      "text/plain": [
       "3.0"
      ]
     },
     "execution_count": 10,
     "metadata": {},
     "output_type": "execute_result"
    }
   ],
   "source": [
    "dist * len(dna1)"
   ]
  },
  {
   "cell_type": "markdown",
   "id": "628ee20f-2f84-4178-bb4c-24d965daee67",
   "metadata": {},
   "source": [
    "(16.2.4)=\n",
    "### 16.2.4 Sequence Alignment"
   ]
  },
  {
   "cell_type": "code",
   "execution_count": null,
   "id": "8c926422-adc2-41ab-bbfb-7e1076fd9774",
   "metadata": {},
   "outputs": [],
   "source": []
  },
  {
   "cell_type": "markdown",
   "id": "b461cdcd-9aac-4eea-9e2f-003b9306dbd6",
   "metadata": {},
   "source": [
    "(16.2.5)=\n",
    "### 16.2.5 Longest Common Sequence"
   ]
  },
  {
   "cell_type": "code",
   "execution_count": null,
   "id": "b4ad8cb9-107e-430a-a2f7-7cdb40334586",
   "metadata": {},
   "outputs": [],
   "source": []
  },
  {
   "cell_type": "markdown",
   "id": "a86f2cfb-7038-440d-8640-7dbc852405b6",
   "metadata": {},
   "source": [
    "(16.2)=\n",
    "## 16.2 Structural Information\n",
    "\n",
    "In this second section, we will look at two common file formats for storing biochemical data: PDB and mmCIF. One thing these file formats have in common is that they are all text files, so information can always be extracted using pure Python code you wrote yourself. However, there are also preexisting tools that can make this process substantially easier such as [biopython](https://biopython.org/) or [scikit-bio](http://scikit-bio.org/). Below you will see demonstrations of both approaches with an emphasis on using preexisting tools.\n",
    "\n",
    "Protein Database (PDB) and Macromolecular Crystallographic Information File (mmCIF) files are designed to hold protein sequence and structural information while the fasta file format only holds sequence data for proteins and nucleic acids. The fasta file format is simpler than the PDB and mmCIF file formats, but there is significant amounts of structural data contained in the former formats not provided with just the sequence."
   ]
  },
  {
   "cell_type": "markdown",
   "id": "4f486f14-3ae6-4694-8257-a7eadf7b1efd",
   "metadata": {},
   "source": [
    "(16.2.1)=\n",
    "### 16.2.1 Reading PDB Files with Python\n",
    "\n",
    "The PDB file format is a classic file format for holding protein sequence and structual information including the information listed below. While the PDB is being slowly replaced by the mmCIF discussed below, the PDB file format is still quite common and worth looking at.\n",
    "\n",
    "- Amino acid sequence\n",
    "- Number of strands\n",
    "- Location and identity of non-amino acid species\n",
    "- *xyz* coordinates of atoms in the crystal structure including trapped solvents\n",
    "- Metadata about the protein (e.g., date collected, resolutin, etc...)\n",
    "- Secondary structure information \n",
    "\n",
    "PDB files are text files with the data arranged with specific line labels and infromation within a line is identified based on *position* in a line. This is in constrast to many other file types where data in a single line is distinguished by seperators such as commas or spaces. For more information on PDB file formats, see the [Protein Data Bank website](https://www.wwpdb.org/documentation/file-format).\n",
    "\n",
    "First, we need a PDB file a protein structure which can be downloaded for free from the [RCSB Protein Data Bank](https://www.rcsb.org/).  Select any protein that you find interesting and download the PDB file by clicking the **Download Files** menu on the top right and selecting **PDF Format**. While you're at it, also download the mmCIF (***PDBx/mmCIF Format**) and fasta (**FASTA Sequence**) files for your protein structure becasue we will look at those next. In the example below, we will look at Vanadium nitrogenase VFe protein in the **7aiz.pdf** file.\n",
    "\n",
    "If you are using Jupyter Lab, you can double click the PDB file to view the contents. The file is organized where each line holds a different type of information, and the far left of each line includes a label in all caps indicating what type of information is stored in each line. Below are some key labels (i.e., record type), but this is far from a comprehensive list.\n",
    "\n",
    "| Record Type | Description          |\n",
    "|-------------|-------------------------|\n",
    "|Header       | Name of protein and date |\n",
    "|TITLE        | Name of protein          |\n",
    "|COMPND       | Information about the compound |\n",
    "|SOURCE       | Information about the source of the protein (e.g., source organism) |\n",
    "|SEQRES       | Amino acid sequence and which strand each belongs         |\n",
    "|HET, HETNAM       | Information about non-amino acids in protein structure    |\n",
    "|HELIX        | Information about helicies including type, start and end amino acids, etc...|\n",
    "|SHEET        | Information about sheets including start and end amino acids and sense |\n",
    "|ATOM         | Information about indificiaul atoms in structure inclidng *xyz* coordinates, identity, amino acid, etc...|\n",
    "|"
   ]
  },
  {
   "cell_type": "markdown",
   "id": "c39a8b0b-b380-4906-8738-d6fb1d6cf89e",
   "metadata": {},
   "source": [
    "Before we begin using biopython to extract information from data files, we will use pure Python as shown below. This code opens the PDB file and appends each line as an item in a list called `data`. We can manually examine a few of the lines to see information about the structure of the protein. Below we see information about the helicies and sheets."
   ]
  },
  {
   "cell_type": "code",
   "execution_count": 11,
   "id": "83d9610b-d673-4409-810f-455c1ae8b3a9",
   "metadata": {},
   "outputs": [],
   "source": [
    "file = 'data/7aiz.pdb'\n",
    "\n",
    "data = []\n",
    "with open(file, 'r') as f:\n",
    "    for line in f:\n",
    "        data.append(line)"
   ]
  },
  {
   "cell_type": "code",
   "execution_count": 12,
   "id": "9f4de20d-f437-4ed1-ac10-9baa00fec412",
   "metadata": {},
   "outputs": [
    {
     "data": {
      "text/plain": [
       "['HELIX  109 AM1 ARG F   24  THR F   44  1                                  21    \\n',\n",
       " 'HELIX  110 AM2 THR F   52  PHE F   73  1                                  22    \\n',\n",
       " 'HELIX  111 AM3 PRO F   74  GLN F   78  5                                   5    \\n',\n",
       " 'HELIX  112 AM4 ASN F   80  ILE F  100  1                                  21    \\n',\n",
       " 'SHEET    1 AA1 6 ILE A  19  LEU A  21  0                                        \\n',\n",
       " 'SHEET    2 AA1 6 TYR A 380  ASP A 383 -1  O  TYR A 381   N  TYR A  20           \\n',\n",
       " 'SHEET    3 AA1 6 GLN A 354  SER A 360  1  N  MET A 358   O  TYR A 380           \\n',\n",
       " 'SHEET    4 AA1 6 LYS A 330  THR A 335  1  N  MET A 331   O  GLN A 354           \\n',\n",
       " 'SHEET    5 AA1 6 VAL A 401  THR A 404  1  O  PHE A 403   N  ALA A 332           \\n',\n",
       " 'SHEET    6 AA1 6 TYR A 419  ASN A 421  1  O  VAL A 420   N  ILE A 402           \\n']"
      ]
     },
     "execution_count": 12,
     "metadata": {},
     "output_type": "execute_result"
    }
   ],
   "source": [
    "data[1190:1200]"
   ]
  },
  {
   "cell_type": "markdown",
   "id": "47360522-38f7-4909-82d5-c138a848db73",
   "metadata": {},
   "source": [
    "As an exercise, we can extract information about the $\\beta$-sheets in the protein. Specifically, we will look at the sense which is whether two strands run in the same direction (parallel) or in the opposite direction (antiparallel). This is indicated by the an integer in positions 39-40 of a SHEET line and can be either `0` for the first strand of a $\\beta$-sheet, `1` for a strand parallel with the previous strand, and `-1` for a strand antiparallel with the previous strand. The function below extract this information by opening the PDB `file`, moving through each line of the file, and if the line begins with `SHEET`, it appends the sense to a list and returns the populated list."
   ]
  },
  {
   "cell_type": "code",
   "execution_count": 13,
   "id": "aeeef98b-f6ef-44bf-9ffd-c91e51ae17a9",
   "metadata": {},
   "outputs": [],
   "source": [
    "def get_sheet_direction(file):\n",
    "    '''Accepts a PDB files name (string) and returns a list\n",
    "    of values indicating if a strand starts a beta sheet (0),\n",
    "    strand is parallel to the previous strand (1), or is\n",
    "    anti-parallel to the previous strand (-1).\n",
    "    \n",
    "     >>> ('1abc.pdb') -> [0, 1, 1, 1, -1]\n",
    "    '''\n",
    "    \n",
    "    structure_list = []\n",
    "    \n",
    "    with open(file, 'r') as f:\n",
    "        for line in f:\n",
    "            if line.startswith('SHEET'):\n",
    "                sense = int(line[38:40].strip())\n",
    "                structure_list.append(sense)\n",
    "    \n",
    "    \n",
    "    return structure_list"
   ]
  },
  {
   "cell_type": "code",
   "execution_count": 14,
   "id": "0a52ef0c-e158-40be-be53-769ce7fb257a",
   "metadata": {},
   "outputs": [
    {
     "name": "stdout",
     "output_type": "stream",
     "text": [
      "[0, -1, 1, 1, 1, 1, 0, 1, 1, 1, -1, 0, 1, 1, 1, 0, 1, 1, 1, 1, 1, 0, 1, 1, 1, 0, 1, 1, 1, 0, -1, 1, 1, 1, 1, 0, 1, 1, 1, -1, 0, 1, 1, 1, 0, 1, 1, 1, 1, 1, 0, 1, 1, 1, 0, 1, 1, 1]\n"
     ]
    }
   ],
   "source": [
    "sheet_sense = get_sheet_direction('data/7aiz.pdb')\n",
    "print(sheet_sense)"
   ]
  },
  {
   "cell_type": "code",
   "execution_count": 15,
   "id": "4ad56373-fd41-48ab-829e-4ace53698200",
   "metadata": {},
   "outputs": [
    {
     "data": {
      "text/plain": [
       "Text(0, 0.5, 'Count')"
      ]
     },
     "execution_count": 15,
     "metadata": {},
     "output_type": "execute_result"
    },
    {
     "data": {
      "image/png": "[encoded data removed]",
      "text/plain": [
       "<Figure size 640x480 with 1 Axes>"
      ]
     },
     "metadata": {},
     "output_type": "display_data"
    }
   ],
   "source": [
    "import seaborn as sns\n",
    "sns.countplot(x=sheet_sense, order=[-1, 0, 1])\n",
    "\n",
    "plt.xlabel('Sheet Sense')\n",
    "plt.ylabel('Count')"
   ]
  },
  {
   "cell_type": "markdown",
   "id": "bef4fa2e-5afd-4793-839d-c3ede6be00c6",
   "metadata": {},
   "source": [
    "According to the above plot above, parallel $\\beta$-sheet strands are significantly more prevalent in this protein structure than antiparallel strands. This might be different for different proteins, so we will expand this analysis to a folder full or protein structures."
   ]
  },
  {
   "cell_type": "code",
   "execution_count": 16,
   "id": "82fd1f80-4485-4df0-ae34-b317b72cd032",
   "metadata": {},
   "outputs": [],
   "source": [
    "import os\n",
    "\n",
    "current_directory = os.getcwd()\n",
    "data_folder = os.path.join(current_directory, 'data/proteins')\n",
    "\n",
    "sheet_sense = []\n",
    "for file in os.listdir('data/proteins'):\n",
    "    if file.endswith('pdb'):\n",
    "        sheet_sense.extend(get_sheet_direction(os.path.join(data_folder,file)))"
   ]
  },
  {
   "cell_type": "code",
   "execution_count": 17,
   "id": "43ec67f9-686b-4da3-8b58-ec39e5b79457",
   "metadata": {},
   "outputs": [
    {
     "data": {
      "text/plain": [
       "Text(0, 0.5, 'Count')"
      ]
     },
     "execution_count": 17,
     "metadata": {},
     "output_type": "execute_result"
    },
    {
     "data": {
      "image/png": "[encoded data removed]",
      "text/plain": [
       "<Figure size 640x480 with 1 Axes>"
      ]
     },
     "metadata": {},
     "output_type": "display_data"
    }
   ],
   "source": [
    "sns.countplot(x=sheet_sense, order=[-1, 0, 1])\n",
    "plt.xlabel('Sheet Sense')\n",
    "plt.ylabel('Count')"
   ]
  },
  {
   "cell_type": "markdown",
   "id": "f686f1f6-82e3-456e-b03c-8a72766f362f",
   "metadata": {},
   "source": [
    "The trend is over a larger sample of proteins is that antiparallel is significantly more common than parallel, so it seems that the 7aiz protein structure is an exception to the typical rule. However, this is still little over a dozen structures, so it would require a much larger data set ot be certain of this trend."
   ]
  },
  {
   "cell_type": "markdown",
   "id": "05b194c2-548c-4e5a-8ef0-fde1fea00f04",
   "metadata": {},
   "source": [
    "(16.2.2)=\n",
    "### 16.2.2 Reading PDB Files with Biopython\n",
    "\n",
    "Next, we will use the biopython library to read data from PDB files. One of the appeals of using biopython is that the user does not need to understand the strucutre of the PDB file format; biopython handles extracting the desired information from the data file in the background. \n",
    "\n",
    "First, we need to import the `PDB` of the biopython library with the `import Bio.PDB` command (see [start of this chapter](16)) if you have not done so already. Biopython, like SciPy, requires that indivifual modules be imported one at a time instead of the entire library (i.e., you can't just type `import Bio`). If you prefer to import a function individually or module into the global namesapce to shorten your function calls (i.e., `from Bio.PDB import *` or `from Bio.PDB import PDBParser()`), you are welcome to do this, but herein we will use `import Bio.PDB` so that the code more clearly shows the source of every function. This module provides tools for dealing with the 3D structural data of macromolecules, such as proteins and DNA. Despite the name, the `PDB` module has tools for also dealing with the mmCIF, PQR, and MMTF file formats. "
   ]
  },
  {
   "cell_type": "markdown",
   "id": "371cdc30-3144-4c20-92f8-0383a8bf1aa4",
   "metadata": {},
   "source": [
    "To parse the PDB file, we first create a **parser object** using the `Bio.PDB.PDBParser()` function. Like previous functions, we need to include the name of the library/module it is in, so in this case, `Bio.PDB.PDBParser()` means the `PDBParser()` function in the `PDB` module of the `Bio` (biopython) library. We will also want to attach our parser object to a variable."
   ]
  },
  {
   "cell_type": "code",
   "execution_count": 18,
   "id": "dc307dd9-2cb8-4407-bbc9-7aeaed6e83df",
   "metadata": {},
   "outputs": [],
   "source": [
    "parser = PDB.PDBParser()"
   ]
  },
  {
   "cell_type": "markdown",
   "id": "3374771d-1a66-4d36-bf41-ca0113ec6316",
   "metadata": {},
   "source": [
    "We will then use the `get_structure()` function to read in data from a PDB file. This function requires two positional arguments - a name for the structure and the name of the file. Both arguments are strings. "
   ]
  },
  {
   "cell_type": "code",
   "execution_count": null,
   "id": "15712cc8-bfa5-4ca9-86d6-35302ca733b6",
   "metadata": {},
   "outputs": [],
   "source": []
  },
  {
   "cell_type": "code",
   "execution_count": 19,
   "id": "e465809f-32bc-4114-8a71-d5b0e3230b30",
   "metadata": {},
   "outputs": [],
   "source": [
    "structure = parser.get_structure('7aiz', 'data/7aiz.pdb')"
   ]
  },
  {
   "cell_type": "markdown",
   "id": "bbd34a39-f4e7-4355-b8bc-4183b84fbaee",
   "metadata": {},
   "source": [
    "The structural data extracted from the PDB by biopython is organized in the hierarchal order of **structure** $\\rightarrow$ **model** $\\rightarrow$ **chain** $\\rightarrow$ **residue** $\\rightarrow$ **atom**. The structure is the protein, the model is a particular 3D model of the protein, the chain is a single peptide chain in the protein, the residue is single amino acid residue in the chain, and the atom is each atom within a given amino acid residue. \n",
    "\n",
    "| Level    |    Description      |\n",
    "|:----------:|:---------------------|\n",
    "|Structure   | Protein strucutre; may contain multiple models     |\n",
    "|Model       | Particular 3D structure of the protein  |\n",
    "|Chain       | Individual pepetide chain in the protein  |\n",
    "|Residue     | Amino acid residue in a given chain |\n",
    "|Atom        | Atoms in a particular amino acid residue |\n",
    "\n",
    "While PDB files can contain multiple structures of a protein, most only contain one. Even though there is only one model in our data, we will need to access the first (and only) model using indexing. For the first protein model, use `structure[0]`, and if there were a second, it would be `structure[1]`."
   ]
  },
  {
   "cell_type": "code",
   "execution_count": 20,
   "id": "a1f1a533-73f4-4d62-8d7d-0cc0d759fcea",
   "metadata": {},
   "outputs": [],
   "source": [
    "protein_model = structure[0]"
   ]
  },
  {
   "cell_type": "markdown",
   "id": "7997378a-0c65-4aea-80b3-3eb24f4ab7aa",
   "metadata": {},
   "source": [
    "We can obtain information about the protein model using the following methods. \n",
    "\n",
    "| Attribute/Function | Description                 |\n",
    "| -------- | -----------                 |\n",
    "|`center_of_mass()` | Returns 3D coordiantes of a chain's center of mass |\n",
    "|`child_dict` | Returns a dictionary with all amino acids and molecules (e.g., water) within a chain |\n",
    "|`get_id()`    | Returns the ID of a chain |\n",
    "|`get_parent()` | Returns the model to which the chain belongs |\n",
    "\n",
    "We can also iterate through the protein model to see that we have six chains A $\\rightarrow$ F."
   ]
  },
  {
   "cell_type": "code",
   "execution_count": 21,
   "id": "8b53ea35-73f4-4b5d-9afe-5dbdd29deed8",
   "metadata": {},
   "outputs": [
    {
     "data": {
      "text/plain": [
       "array([106.83214 ,  15.709563, 131.85027 ], dtype=float32)"
      ]
     },
     "execution_count": 21,
     "metadata": {},
     "output_type": "execute_result"
    }
   ],
   "source": [
    "protein_model.center_of_mass()"
   ]
  },
  {
   "cell_type": "code",
   "execution_count": 22,
   "id": "01e79f33-9135-4cdc-afd7-01f11a83e822",
   "metadata": {},
   "outputs": [
    {
     "name": "stdout",
     "output_type": "stream",
     "text": [
      "<Chain id=A>\n",
      "<Chain id=B>\n",
      "<Chain id=C>\n",
      "<Chain id=D>\n",
      "<Chain id=E>\n",
      "<Chain id=F>\n"
     ]
    }
   ],
   "source": [
    "for chain in protein_model:\n",
    "    print(chain)"
   ]
  },
  {
   "cell_type": "markdown",
   "id": "3c69aa73-b1a3-47cb-a442-7ce24232a7b9",
   "metadata": {},
   "source": [
    "The above information is not the most enlightening, so lets look at the peptide sequences in this protein structure by initiating (i.e., creating) a polypeptide builder object using the using `PDB.PPBuilder()` and then building the polypetides using the `build_peptides()` method. The `build_peptides()` function accepts the structure as the one required piece of information and by default only returns standard amine acids in the peptide chains unless the `aa_only=False` optional argument is included. The pepetide information below is stored in the variable `peptides` which shows the six peptide chains in this particular protein structure along with sequence identifier integers that indication the position of the amino acid along the peptide chain."
   ]
  },
  {
   "cell_type": "code",
   "execution_count": 23,
   "id": "2a9a902d-615d-437e-b4ce-c1d075ca19ff",
   "metadata": {},
   "outputs": [
    {
     "data": {
      "text/plain": [
       "[<Polypeptide start=2 end=474>,\n",
       " <Polypeptide start=12 end=475>,\n",
       " <Polypeptide start=2 end=113>,\n",
       " <Polypeptide start=2 end=474>,\n",
       " <Polypeptide start=11 end=475>,\n",
       " <Polypeptide start=3 end=113>]"
      ]
     },
     "execution_count": 23,
     "metadata": {},
     "output_type": "execute_result"
    }
   ],
   "source": [
    "ppb = PDB.PPBuilder()\n",
    "peptides = ppb.build_peptides(structure[0])\n",
    "\n",
    "peptides"
   ]
  },
  {
   "cell_type": "markdown",
   "id": "27819fba-76a0-4d56-b4be-b90d248c889d",
   "metadata": {},
   "source": [
    "We can iterate through the PolyPeptide object called `peptides` to get the individual peptide chains. With the peptide chains, we can obtain information about the peptide chain including the names of amino acids, phi ($\\phi$) and psi ($\\psi$) angles, etc., using the various methods tabulated below.\n",
    "\n",
    "| Attribute/Function | Description                 |\n",
    "| -------- | -----------                 |\n",
    "|`get_sequence()` |'Returns the squence of each strand using single-letter amino acid codes' |\n",
    "|`get_phi_psi_list()` | 'Returns a list of phi and psi dihedral angles in radians along peptide chain' |\n",
    "|`get_ca_list()`    | 'Returns list of alpha carbons in peptide chain' |\n",
    "|`get_theta_list()`    | 'Returns a list of theta angles in radians' |\n",
    "|`get_tau_list()` | 'Returns list of tau torsional angles in radians' |\n",
    "\n",
    "In the example below, we iterate through the peptide strands in `peptides` and print the amine acid sequence in single-letter code."
   ]
  },
  {
   "cell_type": "code",
   "execution_count": 24,
   "id": "40ff85d2-5668-49dd-998f-35fa81fb86ab",
   "metadata": {},
   "outputs": [
    {
     "name": "stdout",
     "output_type": "stream",
     "text": [
      "PMVLLECDKDIPERQKHIYLKAPNEDTREFLPIANAATIPGTLSERGCAFCGAKLVIGGVLKDTIQMIHGPLGCAYDTWHTKRYPTDNGHFNMKYVWSTDMKESHVVFGGEKRLEKSMHEAFDEMPDIKRMIVYTTCPTALIGDDIKAVAKKVMKDRPDVDVFTVECPGFSGVSQSKGHHVLNIGWINEKVETMEKEITSEYTMNFIGDFNIQGDTQLLQTYWDRLGIQVVAHFTGNGTYDDLRCMHQAQLNVVNCARSSGYIANELKKRYGIPRLDIDSWGFNYMAEGIRKICAFFGIEEKGEELIAEEYAKWKPKLDWYKERLQGKKMAIWTGGPRLWHWTKSVEDDLGVQVVAMSSKFGHEEDFEKVIARGKEGTYYIDDGNELEFFEIIDLVKPDVIFTGPRVGELVKKLHIPYVNGHGYHNGPYMGFEGFVNLARDMYNAVHNPLRHLAAVDIRDKSQTTPVIVRGAA\n",
      "AEVKLSPRDREGIINPMYDCQPAGAQYAGIGIKDCIPLVHGGQGCTMFVRLLFAQHFKENFDVASTSLHEESAVFGGAKRVEEGVLVLARRYPNLRVIPIITTCSTEVIGDDIEGSIRVCNRALEAEFPDRKIYLAPVHTPSFKGSHVTGYAECVKSVFKTITDAHGKGQPSGKLNVFPGWVNPGDVVLLKRYFKEMDVEANIYMDTEDFDSPMLPNKSIETHGRTTVEDIADSANALATLSLARYEGNTTGELLQKTFAVPNALVNTPYGIKNTDDMLRKIAEVTGKEIPESLVRERGIALDALADLAHMFFANKKVAIFGHPDLVLGLAQFCMEVELEPVLLLIGDDQGNKYKKDPRIEELKNTAHFDIEIVHNADLWELEKRINAGLQLDLIMGHSKGRYVAIEANIPMVRVGFPTFDRAGLYRKPSIGYQGAMELGEMIANAMFAHMEYTRNKEWILNTW\n",
      "SQSHLDDLFAYVEERCLWQFFSRTWDREENIEGVLNQVGRLLTGQEPLRGTPQERLFYADALAMANDVRERFPWASQVNKEEIEFLLDGLKSRLVDVTITRSTNRELNHHLY\n",
      "PMVLLECDKDIPERQKHIYLKAPNEDTREFLPIANAATIPGTLSERGCAFCGAKLVIGGVLKDTIQMIHGPLGCAYDTWHTKRYPTDNGHFNMKYVWSTDMKESHVVFGGEKRLEKSMHEAFDEMPDIKRMIVYTTCPTALIGDDIKAVAKKVMKDRPDVDVFTVECPGFSGVSQSKGHHVLNIGWINEKVETMEKEITSEYTMNFIGDFNIQGDTQLLQTYWDRLGIQVVAHFTGNGTYDDLRCMHQAQLNVVNCARSSGYIANELKKRYGIPRLDIDSWGFNYMAEGIRKICAFFGIEEKGEELIAEEYAKWKPKLDWYKERLQGKKMAIWTGGPRLWHWTKSVEDDLGVQVVAMSSKFGHEEDFEKVIARGKEGTYYIDDGNELEFFEIIDLVKPDVIFTGPRVGELVKKLHIPYVNGHGYHNGPYMGFEGFVNLARDMYNAVHNPLRHLAAVDIRDKSQTTPVIVRGAA\n",
      "PAEVKLSPRDREGIINPMYDCQPAGAQYAGIGIKDCIPLVHGGQGCTMFVRLLFAQHFKENFDVASTSLHEESAVFGGAKRVEEGVLVLARRYPNLRVIPIITTCSTEVIGDDIEGSIRVCNRALEAEFPDRKIYLAPVHTPSFKGSHVTGYAECVKSVFKTITDAHGKGQPSGKLNVFPGWVNPGDVVLLKRYFKEMDVEANIYMDTEDFDSPMLPNKSIETHGRTTVEDIADSANALATLSLARYEGNTTGELLQKTFAVPNALVNTPYGIKNTDDMLRKIAEVTGKEIPESLVRERGIALDALADLAHMFFANKKVAIFGHPDLVLGLAQFCMEVELEPVLLLIGDDQGNKYKKDPRIEELKNTAHFDIEIVHNADLWELEKRINAGLQLDLIMGHSKGRYVAIEANIPMVRVGFPTFDRAGLYRKPSIGYQGAMELGEMIANAMFAHMEYTRNKEWILNTW\n",
      "QSHLDDLFAYVEERCLWQFFSRTWDREENIEGVLNQVGRLLTGQEPLRGTPQERLFYADALAMANDVRERFPWASQVNKEEIEFLLDGLKSRLVDVTITRSTNRELNHHLY\n"
     ]
    }
   ],
   "source": [
    "for strand in peptides:\n",
    "    pp = strand.get_sequence()\n",
    "    print(pp)"
   ]
  },
  {
   "cell_type": "markdown",
   "id": "f21bdd24-7db9-4100-aa64-a0266d73a022",
   "metadata": {},
   "source": [
    "(16.2.3)=\n",
    "### 16.2.3 Reading mmCIF Files with Biopython\n",
    "\n",
    "The **mmCIF** file format is the successor to the PDB format. An advantage of using biopython to parse files is that the code for dealing with PDB and mmCIF files are almost identical as biopython deals with the details of the file structures behind the scenes. The only difference in dealing with mmCIF files verus PDB in biopython is that we use the `PDB.MMCIFParder()` function to read the file instead of `PDB.PDBParser()`."
   ]
  },
  {
   "cell_type": "code",
   "execution_count": 25,
   "id": "ef021a13-e4d1-4b60-b7e3-12f81b2c1c4b",
   "metadata": {},
   "outputs": [
    {
     "name": "stdout",
     "output_type": "stream",
     "text": [
      "PMVLLECDKDIPERQKHIYLKAPNEDTREFLPIANAATIPGTLSERGCAFCGAKLVIGGVLKDTIQMIHGPLGCAYDTWHTKRYPTDNGHFNMKYVWSTDMKESHVVFGGEKRLEKSMHEAFDEMPDIKRMIVYTTCPTALIGDDIKAVAKKVMKDRPDVDVFTVECPGFSGVSQSKGHHVLNIGWINEKVETMEKEITSEYTMNFIGDFNIQGDTQLLQTYWDRLGIQVVAHFTGNGTYDDLRCMHQAQLNVVNCARSSGYIANELKKRYGIPRLDIDSWGFNYMAEGIRKICAFFGIEEKGEELIAEEYAKWKPKLDWYKERLQGKKMAIWTGGPRLWHWTKSVEDDLGVQVVAMSSKFGHEEDFEKVIARGKEGTYYIDDGNELEFFEIIDLVKPDVIFTGPRVGELVKKLHIPYVNGHGYHNGPYMGFEGFVNLARDMYNAVHNPLRHLAAVDIRDKSQTTPVIVRGAA\n",
      "AEVKLSPRDREGIINPMYDCQPAGAQYAGIGIKDCIPLVHGGQGCTMFVRLLFAQHFKENFDVASTSLHEESAVFGGAKRVEEGVLVLARRYPNLRVIPIITTCSTEVIGDDIEGSIRVCNRALEAEFPDRKIYLAPVHTPSFKGSHVTGYAECVKSVFKTITDAHGKGQPSGKLNVFPGWVNPGDVVLLKRYFKEMDVEANIYMDTEDFDSPMLPNKSIETHGRTTVEDIADSANALATLSLARYEGNTTGELLQKTFAVPNALVNTPYGIKNTDDMLRKIAEVTGKEIPESLVRERGIALDALADLAHMFFANKKVAIFGHPDLVLGLAQFCMEVELEPVLLLIGDDQGNKYKKDPRIEELKNTAHFDIEIVHNADLWELEKRINAGLQLDLIMGHSKGRYVAIEANIPMVRVGFPTFDRAGLYRKPSIGYQGAMELGEMIANAMFAHMEYTRNKEWILNTW\n",
      "SQSHLDDLFAYVEERCLWQFFSRTWDREENIEGVLNQVGRLLTGQEPLRGTPQERLFYADALAMANDVRERFPWASQVNKEEIEFLLDGLKSRLVDVTITRSTNRELNHHLY\n",
      "PMVLLECDKDIPERQKHIYLKAPNEDTREFLPIANAATIPGTLSERGCAFCGAKLVIGGVLKDTIQMIHGPLGCAYDTWHTKRYPTDNGHFNMKYVWSTDMKESHVVFGGEKRLEKSMHEAFDEMPDIKRMIVYTTCPTALIGDDIKAVAKKVMKDRPDVDVFTVECPGFSGVSQSKGHHVLNIGWINEKVETMEKEITSEYTMNFIGDFNIQGDTQLLQTYWDRLGIQVVAHFTGNGTYDDLRCMHQAQLNVVNCARSSGYIANELKKRYGIPRLDIDSWGFNYMAEGIRKICAFFGIEEKGEELIAEEYAKWKPKLDWYKERLQGKKMAIWTGGPRLWHWTKSVEDDLGVQVVAMSSKFGHEEDFEKVIARGKEGTYYIDDGNELEFFEIIDLVKPDVIFTGPRVGELVKKLHIPYVNGHGYHNGPYMGFEGFVNLARDMYNAVHNPLRHLAAVDIRDKSQTTPVIVRGAA\n",
      "PAEVKLSPRDREGIINPMYDCQPAGAQYAGIGIKDCIPLVHGGQGCTMFVRLLFAQHFKENFDVASTSLHEESAVFGGAKRVEEGVLVLARRYPNLRVIPIITTCSTEVIGDDIEGSIRVCNRALEAEFPDRKIYLAPVHTPSFKGSHVTGYAECVKSVFKTITDAHGKGQPSGKLNVFPGWVNPGDVVLLKRYFKEMDVEANIYMDTEDFDSPMLPNKSIETHGRTTVEDIADSANALATLSLARYEGNTTGELLQKTFAVPNALVNTPYGIKNTDDMLRKIAEVTGKEIPESLVRERGIALDALADLAHMFFANKKVAIFGHPDLVLGLAQFCMEVELEPVLLLIGDDQGNKYKKDPRIEELKNTAHFDIEIVHNADLWELEKRINAGLQLDLIMGHSKGRYVAIEANIPMVRVGFPTFDRAGLYRKPSIGYQGAMELGEMIANAMFAHMEYTRNKEWILNTW\n",
      "QSHLDDLFAYVEERCLWQFFSRTWDREENIEGVLNQVGRLLTGQEPLRGTPQERLFYADALAMANDVRERFPWASQVNKEEIEFLLDGLKSRLVDVTITRSTNRELNHHLY\n"
     ]
    }
   ],
   "source": [
    "parser = PDB.MMCIFParser()\n",
    "structure = parser.get_structure('7aiz', 'data/7aiz.cif')\n",
    "peptides = PDB.PPBuilder().build_peptides(structure[0])\n",
    "\n",
    "for strand in peptides:\n",
    "    print(strand.get_sequence())"
   ]
  },
  {
   "cell_type": "code",
   "execution_count": 26,
   "id": "fae3b54f-5df3-49b1-ac7c-223a961bee68",
   "metadata": {},
   "outputs": [
    {
     "data": {
      "text/plain": [
       "<Chain id=A>"
      ]
     },
     "execution_count": 26,
     "metadata": {},
     "output_type": "execute_result"
    }
   ],
   "source": [
    "chain_A = structure[0]['A']\n",
    "chain_A"
   ]
  },
  {
   "cell_type": "code",
   "execution_count": 27,
   "id": "3d0c36eb-3e01-4908-93eb-cd2257d8be58",
   "metadata": {},
   "outputs": [
    {
     "data": {
      "text/plain": [
       "<Residue THR het=  resseq=43 icode= >"
      ]
     },
     "execution_count": 27,
     "metadata": {},
     "output_type": "execute_result"
    }
   ],
   "source": [
    "chain_A[43]"
   ]
  },
  {
   "cell_type": "code",
   "execution_count": 28,
   "id": "5b57dd3e-e586-4a5b-ad13-6a88ab40affb",
   "metadata": {},
   "outputs": [
    {
     "data": {
      "text/plain": [
       "[<Atom N>, <Atom CA>, <Atom C>, <Atom O>, <Atom CB>, <Atom OG1>, <Atom CG2>]"
      ]
     },
     "execution_count": 28,
     "metadata": {},
     "output_type": "execute_result"
    }
   ],
   "source": [
    "THR_atoms = chain_A[43].get_unpacked_list()\n",
    "THR_atoms"
   ]
  },
  {
   "cell_type": "markdown",
   "id": "4886e694-655c-40bc-9165-338d854fde95",
   "metadata": {},
   "source": [
    "| Attribute/Function | Description                 |\n",
    "| -------- | -----------                 |\n",
    "|`get_name()` |'Returns the name of the atom' |\n",
    "|`get_coord()` | 'Returns the *xyz* coordinates of the atom as an array' |\n",
    "|`get_vector()`    | 'Returns the *xyz* coordinates of the atom as a vector' |\n",
    "|`transform()`    | 'Rotate or translate the atomic coordinates along the *xyz* axes' |"
   ]
  },
  {
   "cell_type": "code",
   "execution_count": 29,
   "id": "7663c7a1-66ca-4a97-8e53-05c20e26ab76",
   "metadata": {},
   "outputs": [
    {
     "data": {
      "text/plain": [
       "array([87.589,  7.166, 96.102], dtype=float32)"
      ]
     },
     "execution_count": 29,
     "metadata": {},
     "output_type": "execute_result"
    }
   ],
   "source": [
    "THR_N = THR_atoms[0]\n",
    "THR_N.get_coord()"
   ]
  },
  {
   "cell_type": "code",
   "execution_count": 30,
   "id": "ba07cc53-77b7-4815-9728-4bb4b0aa5b6c",
   "metadata": {},
   "outputs": [
    {
     "data": {
      "text/plain": [
       "array([1., 2., 1.])"
      ]
     },
     "execution_count": 30,
     "metadata": {},
     "output_type": "execute_result"
    }
   ],
   "source": [
    "THR_N.transform(0, (1,2,1))\n",
    "THR_N.get_coord()"
   ]
  },
  {
   "cell_type": "code",
   "execution_count": 31,
   "id": "eb066030-cf11-4f3a-aae1-b3b2bd315f0d",
   "metadata": {},
   "outputs": [
    {
     "ename": "NameError",
     "evalue": "name 'atoms' is not defined",
     "output_type": "error",
     "traceback": [
      "\u001b[0;31m---------------------------------------------------------------------------\u001b[0m",
      "\u001b[0;31mNameError\u001b[0m                                 Traceback (most recent call last)",
      "Cell \u001b[0;32mIn[31], line 1\u001b[0m\n\u001b[0;32m----> 1\u001b[0m atoms[\u001b[38;5;241m1\u001b[39m]\u001b[38;5;241m.\u001b[39mget_name()\n",
      "\u001b[0;31mNameError\u001b[0m: name 'atoms' is not defined"
     ]
    }
   ],
   "source": [
    "atoms[1].get_name()"
   ]
  },
  {
   "cell_type": "code",
   "execution_count": null,
   "id": "961cb740-d6e4-4989-97d7-602b20bbedae",
   "metadata": {},
   "outputs": [],
   "source": [
    "for chain in structure[0]:\n",
    "    print(chain)\n",
    "    for res in chain.get_residues():\n",
    "        pass\n",
    "        #print(res)\n",
    "        #print(res.get_resname())"
   ]
  },
  {
   "cell_type": "code",
   "execution_count": null,
   "id": "0bafde1d-a8cd-4f26-bb87-527eb26b8afe",
   "metadata": {},
   "outputs": [],
   "source": [
    "for chain in structure[0]:\n",
    "    for res in chain.get_residues():\n",
    "        #print(res.get_atoms())"
   ]
  },
  {
   "cell_type": "markdown",
   "id": "73e9a219-b9d4-4202-ab8a-2b02adb77546",
   "metadata": {},
   "source": [
    "(16.2.4)=\n",
    "### 16.2.4 Writing Files with Biopython\n",
    "\n",
    "Biopython is capable of writing structures to new PDB or mmCIF files, but it will not include much of the metadata (e.g., resolution, name of structure, authors, etc.) and information about secondary structures in the new files.\n",
    "\n",
    "The general methodology is to first create a writing object using either `PDB.PBDIO()` or `PDB.MMCIFIO()` for creating a new PDB or mmCIF file, respectively. Next, use the `set_structure()` method on the writing object to load the data from an individual structure. Finally, write the file using the `save()` function and providing it with the name of the new file as a string."
   ]
  },
  {
   "cell_type": "code",
   "execution_count": null,
   "id": "7ee02570-8925-476b-8089-0777263a4bf9",
   "metadata": {},
   "outputs": [],
   "source": [
    "# write a new PDB\n",
    "io = PDB.PDBIO()\n",
    "io.set_structure(structure[0])\n",
    "io.save('new_protein.pdb')"
   ]
  },
  {
   "cell_type": "code",
   "execution_count": null,
   "id": "1597625f-2c62-435c-a1ff-3a89e49f6189",
   "metadata": {},
   "outputs": [],
   "source": [
    "# write a new mmCIF\n",
    "io = PDB.MMCIFIO()\n",
    "io.set_structure(structure[0])\n",
    "io.save('new_protein.cif')"
   ]
  },
  {
   "cell_type": "code",
   "execution_count": null,
   "id": "5b813cb7-0182-4688-a7c3-8dd530194141",
   "metadata": {},
   "outputs": [],
   "source": []
  },
  {
   "cell_type": "markdown",
   "id": "c7d06ef4-7e98-48f9-8579-a3e7bf076c94",
   "metadata": {},
   "source": [
    "(16.2.5)=\n",
    "### 16.2.5 Creating Ramachandran Plots\n",
    "\n",
    "```{Ramachandran}\n",
    "```\n",
    "\n",
    "As an example application, we can generate a Ramachandran plot which visualizes the trends of the psi ($\\psi$) versus phi ($\\phi$) dihedral angles in amino acids along a peptide chain. While the omega ($\\omega$) dihedral angles tend to be flat, the psi ($\\psi$) versus phi ($\\phi$) dihedral angles tend to exist in distinct ranges.\n",
    "\n",
    "![peptide_angles](img/tripeptide_gray_sm.png)\n",
    "\n",
    "The general methodology below is:\n",
    "\n",
    "1. Parse PDB files in the **data/proteins** folder using a PDB parser\n",
    "2. Build a PolyPeptide object using a PDB builder\n",
    "3. Iterate over the peptides and store the psi ($\\psi$) and phi ($\\phi$) dihedral angles \n",
    "4. Plot the results as psi ($\\psi$) versus phi ($\\phi$) \n"
   ]
  },
  {
   "cell_type": "code",
   "execution_count": null,
   "id": "8d2048a2-40f7-4b87-9b5f-1079f33b86a3",
   "metadata": {},
   "outputs": [],
   "source": [
    "phi, psi  = [], []\n",
    "\n",
    "current_directory = os.getcwd()\n",
    "data_folder = os.path.join(current_directory, 'data/proteins')\n",
    "\n",
    "parser = PDB.PDBParser()\n",
    "ppb = PDB.PPBuilder()\n",
    "\n",
    "for file in os.listdir('data/proteins'):\n",
    "    if file.endswith('pdb'):\n",
    "        data = parser.get_structure('file', os.path.join(data_folder,file))\n",
    "        peptides = ppb.build_peptides(structure[0])\n",
    "        for strand in peptides:\n",
    "            phi.extend(x[0] for x in strand.get_phi_psi_list()[1:-1])\n",
    "            psi.extend(x[1] for x in strand.get_phi_psi_list()[1:-1])"
   ]
  },
  {
   "cell_type": "code",
   "execution_count": null,
   "id": "3ebe2c1e-13a2-4578-9176-fc72d45ff72b",
   "metadata": {},
   "outputs": [],
   "source": [
    "phi[:10]"
   ]
  },
  {
   "cell_type": "code",
   "execution_count": null,
   "id": "7ca5fe34-a3cb-44f0-a0ea-81af182244c8",
   "metadata": {},
   "outputs": [],
   "source": [
    "plt.scatter(phi, psi, s=1)\n",
    "plt.xlabel('phi $\\phi$, degrees')\n",
    "plt.ylabel('psi $\\psi$, degrees');"
   ]
  },
  {
   "cell_type": "markdown",
   "id": "f3feed12-6721-49f9-a0e7-ee36acc228ad",
   "metadata": {},
   "source": [
    "You may notice that the first and last dihedral angles were slices off the list of phi and psi angles (last two lines of code). This is becuase there are no phi ($\\phi$) values for first amino acid and no psi ($\\psi$) values in the last amino acid. Dihedral angle measurements require four atoms, and those terminal amino acids are missing one of the required four atoms. For example, phi ($\\phi$) dihedral angles are measured from the N-C$_\\alpha$ bond of a C(O)-N-C$_\\alpha$-C(O) chain of atoms, but the first amine acids only have N-C$_\\alpha$-C(O)."
   ]
  },
  {
   "cell_type": "markdown",
   "id": "39d82228-fa75-475b-9b33-c5438f7e8721",
   "metadata": {},
   "source": [
    "The Ramachandran plot above is in radians which can be converted to degree (1 radian = 180/$\\pi$) as is done below."
   ]
  },
  {
   "cell_type": "code",
   "execution_count": null,
   "id": "2a3d3240-5ba0-48d4-931f-041f2e28e575",
   "metadata": {},
   "outputs": [],
   "source": [
    "import math\n",
    "psi_deg = [rad * (180 / math.pi) for rad in psi]\n",
    "phi_deg = [rad * (180 / math.pi) for rad in phi]\n",
    "\n",
    "plt.scatter(phi_deg, psi_deg, s=1)\n",
    "plt.xlabel('phi $\\phi$, degrees')\n",
    "plt.ylabel('psi $\\psi$, degrees');"
   ]
  },
  {
   "cell_type": "markdown",
   "id": "d39cb554-cb61-4e20-b9de-88afe5dadc73",
   "metadata": {
    "jp-MarkdownHeadingCollapsed": true
   },
   "source": [
    "Other representations of Ramachandran plots using different plotting types or color coding the markers based on secondary protein structure can be seen in [Notebook 3 of the Visualization of Top8000 Protein Dataset](https://weisscharlesj.github.io/BiopythonRamachandran/VisTop8000_COMPLETE/03Ramachandran/03Ramachandran_Plot_v8.html) mini tutorial."
   ]
  },
  {
   "cell_type": "markdown",
   "id": "75e2f310-e64e-4011-866b-4ae22db08212",
   "metadata": {},
   "source": [
    "(16.3)=\n",
    "## 16.3 Visualizing Biomolecules"
   ]
  },
  {
   "cell_type": "markdown",
   "id": "1bc677bf-241f-4d4a-8371-5cfbc11d5a83",
   "metadata": {},
   "source": [
    "(16.3.1)=\n",
    "### 16.3.1 "
   ]
  },
  {
   "cell_type": "markdown",
   "id": "9f8eb89b-7743-470d-bad7-35c06bac2299",
   "metadata": {},
   "source": [
    "(16.3.2)=\n",
    "### 16.3.2 "
   ]
  },
  {
   "cell_type": "code",
   "execution_count": null,
   "id": "56eee5f6-5676-4f56-99ce-477c09a5fe8c",
   "metadata": {},
   "outputs": [],
   "source": []
  },
  {
   "cell_type": "markdown",
   "id": "4f0c09ed-b609-4b8b-957c-f6a04dcfb8cb",
   "metadata": {},
   "source": [
    "(16.3)=\n",
    "### 16.3\n"
   ]
  },
  {
   "cell_type": "code",
   "execution_count": null,
   "id": "fc4a8856-121f-4c8d-a72a-5deaa128a626",
   "metadata": {},
   "outputs": [],
   "source": []
  },
  {
   "cell_type": "code",
   "execution_count": null,
   "id": "3c06d183-05ad-44a3-be09-99e997860560",
   "metadata": {},
   "outputs": [],
   "source": []
  },
  {
   "cell_type": "code",
   "execution_count": null,
   "id": "00d7faec-eac2-4432-a7ec-7fba065b45cf",
   "metadata": {},
   "outputs": [],
   "source": []
  },
  {
   "cell_type": "code",
   "execution_count": null,
   "id": "0470ad4e-ee01-4385-9de3-819da761b719",
   "metadata": {},
   "outputs": [],
   "source": []
  },
  {
   "cell_type": "markdown",
   "id": "45918781-f3ae-41a2-aa2e-0c09e4e7f0fa",
   "metadata": {},
   "source": [
    "## Further Reading\n",
    "\n",
    "1. PDB format documentation. https://www.wwpdb.org/documentation/file-format (free resource)\n",
    "\n",
    "2. Introduction to PDB File Format. https://www.cgl.ucsf.edu/chimera/docs/UsersGuide/tutorials/pdbintro.html (free resource)\n",
    "\n",
    "3. Biopython Website. https://biopython.org (free resource)\n",
    "\n",
    "4. Scikit-bio Website. http://scikit-bio.org (free resource)\n",
    "\n",
    "\n",
    "\n",
    "Cock, P. J. A.; Antao, T.; Chang, J. T.; Chapman, B. A.; Cox, C. J.; Dalke, A.; Friedberg, I.; Hamelryck, T.; Kauff, F.; Wilczynski, B.; De Hoon, M. J. L. Biopython: Freely Available Python Tools for Computational Molecular Biology and Bioinformatics. Bioinformatics 2009, 25, 1422– 1423,"
   ]
  },
  {
   "cell_type": "markdown",
   "id": "0c9da72c-e0ac-4ca6-80a9-194327b25306",
   "metadata": {},
   "source": [
    "## Exercises\n",
    "\n"
   ]
  }
 ],
 "metadata": {
  "kernelspec": {
   "display_name": "Python 3 (ipykernel)",
   "language": "python",
   "name": "python3"
  },
  "language_info": {
   "codemirror_mode": {
    "name": "ipython",
    "version": 3
   },
   "file_extension": ".py",
   "mimetype": "text/x-python",
   "name": "python",
   "nbconvert_exporter": "python",
   "pygments_lexer": "ipython3",
   "version": "3.11.4"
  }
 },
 "nbformat": 4,
 "nbformat_minor": 5
}
